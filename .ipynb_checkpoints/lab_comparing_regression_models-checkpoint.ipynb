{
 "cells": [
  {
   "cell_type": "markdown",
   "id": "5405d3eb-de30-41c2-82f0-f8d89ad32dab",
   "metadata": {},
   "source": [
    "<br><h1>Lab | Cleaning numerical data<h1>"
   ]
  },
  {
   "cell_type": "code",
   "execution_count": 1,
   "id": "f6774cd2-eb00-4406-b141-82318fadc5df",
   "metadata": {},
   "outputs": [],
   "source": [
    "import pandas as pd\n",
    "import seaborn as sns\n",
    "import matplotlib.pyplot as plt\n",
    "import numpy as np\n",
    "import datetime"
   ]
  },
  {
   "cell_type": "code",
   "execution_count": 2,
   "id": "9aa525b1-aeae-422c-8ccb-9c10e5da8d27",
   "metadata": {},
   "outputs": [
    {
     "data": {
      "text/plain": [
       "(9134, 24)"
      ]
     },
     "execution_count": 2,
     "metadata": {},
     "output_type": "execute_result"
    }
   ],
   "source": [
    "customer_df = pd.read_csv('./files_for_lab/customer_value_analysis.csv')\n",
    "customer_df.shape"
   ]
  },
  {
   "cell_type": "code",
   "execution_count": 3,
   "id": "25d68e54-e932-4409-b5d5-0148df525899",
   "metadata": {},
   "outputs": [
    {
     "data": {
      "text/plain": [
       "(9134, 24)"
      ]
     },
     "execution_count": 3,
     "metadata": {},
     "output_type": "execute_result"
    }
   ],
   "source": [
    "customer_df.shape"
   ]
  },
  {
   "cell_type": "code",
   "execution_count": 4,
   "id": "7fdfca3d-843a-48ad-803c-4fdb1f2a39a6",
   "metadata": {},
   "outputs": [
    {
     "name": "stdout",
     "output_type": "stream",
     "text": [
      "<class 'pandas.core.frame.DataFrame'>\n",
      "RangeIndex: 9134 entries, 0 to 9133\n",
      "Data columns (total 24 columns):\n",
      " #   Column                         Non-Null Count  Dtype  \n",
      "---  ------                         --------------  -----  \n",
      " 0   Customer                       9134 non-null   object \n",
      " 1   State                          9134 non-null   object \n",
      " 2   Customer Lifetime Value        9134 non-null   float64\n",
      " 3   Response                       9134 non-null   object \n",
      " 4   Coverage                       9134 non-null   object \n",
      " 5   Education                      9134 non-null   object \n",
      " 6   Effective To Date              9134 non-null   object \n",
      " 7   EmploymentStatus               9134 non-null   object \n",
      " 8   Gender                         9134 non-null   object \n",
      " 9   Income                         9134 non-null   int64  \n",
      " 10  Location Code                  9134 non-null   object \n",
      " 11  Marital Status                 9134 non-null   object \n",
      " 12  Monthly Premium Auto           9134 non-null   int64  \n",
      " 13  Months Since Last Claim        9134 non-null   int64  \n",
      " 14  Months Since Policy Inception  9134 non-null   int64  \n",
      " 15  Number of Open Complaints      9134 non-null   int64  \n",
      " 16  Number of Policies             9134 non-null   int64  \n",
      " 17  Policy Type                    9134 non-null   object \n",
      " 18  Policy                         9134 non-null   object \n",
      " 19  Renew Offer Type               9134 non-null   object \n",
      " 20  Sales Channel                  9134 non-null   object \n",
      " 21  Total Claim Amount             9134 non-null   float64\n",
      " 22  Vehicle Class                  9134 non-null   object \n",
      " 23  Vehicle Size                   9134 non-null   object \n",
      "dtypes: float64(2), int64(6), object(16)\n",
      "memory usage: 1.7+ MB\n"
     ]
    }
   ],
   "source": [
    "customer_df.info()"
   ]
  },
  {
   "cell_type": "code",
   "execution_count": 5,
   "id": "96767e23-d8b1-490f-903e-945240f3ade1",
   "metadata": {},
   "outputs": [],
   "source": [
    "def clean_df(df):\n",
    "    df = df.drop_duplicates()\n",
    "    df = df.reset_index(drop = True)\n",
    "    df.columns = [col.lower().replace(' ', '_') for col in df.columns]\n",
    "    return df"
   ]
  },
  {
   "cell_type": "code",
   "execution_count": 6,
   "id": "ffcfaf45-7dc6-40d2-8248-ab4cb403ac13",
   "metadata": {},
   "outputs": [
    {
     "name": "stdout",
     "output_type": "stream",
     "text": [
      "<class 'pandas.core.frame.DataFrame'>\n",
      "RangeIndex: 9134 entries, 0 to 9133\n",
      "Data columns (total 24 columns):\n",
      " #   Column                         Non-Null Count  Dtype  \n",
      "---  ------                         --------------  -----  \n",
      " 0   customer                       9134 non-null   object \n",
      " 1   state                          9134 non-null   object \n",
      " 2   customer_lifetime_value        9134 non-null   float64\n",
      " 3   response                       9134 non-null   object \n",
      " 4   coverage                       9134 non-null   object \n",
      " 5   education                      9134 non-null   object \n",
      " 6   effective_to_date              9134 non-null   object \n",
      " 7   employmentstatus               9134 non-null   object \n",
      " 8   gender                         9134 non-null   object \n",
      " 9   income                         9134 non-null   int64  \n",
      " 10  location_code                  9134 non-null   object \n",
      " 11  marital_status                 9134 non-null   object \n",
      " 12  monthly_premium_auto           9134 non-null   int64  \n",
      " 13  months_since_last_claim        9134 non-null   int64  \n",
      " 14  months_since_policy_inception  9134 non-null   int64  \n",
      " 15  number_of_open_complaints      9134 non-null   int64  \n",
      " 16  number_of_policies             9134 non-null   int64  \n",
      " 17  policy_type                    9134 non-null   object \n",
      " 18  policy                         9134 non-null   object \n",
      " 19  renew_offer_type               9134 non-null   object \n",
      " 20  sales_channel                  9134 non-null   object \n",
      " 21  total_claim_amount             9134 non-null   float64\n",
      " 22  vehicle_class                  9134 non-null   object \n",
      " 23  vehicle_size                   9134 non-null   object \n",
      "dtypes: float64(2), int64(6), object(16)\n",
      "memory usage: 1.7+ MB\n"
     ]
    }
   ],
   "source": [
    "customer_df = clean_df(customer_df)\n",
    "customer_df.info()"
   ]
  },
  {
   "cell_type": "markdown",
   "id": "ceccdf3b-6edb-4e8e-a391-81cdac6b0a23",
   "metadata": {},
   "source": [
    "Headers standardized"
   ]
  },
  {
   "cell_type": "code",
   "execution_count": 7,
   "id": "234235d2-22a7-4b25-8c74-01a81b1bb95b",
   "metadata": {},
   "outputs": [
    {
     "data": {
      "text/plain": [
       "customer                         0\n",
       "state                            0\n",
       "customer_lifetime_value          0\n",
       "response                         0\n",
       "coverage                         0\n",
       "education                        0\n",
       "effective_to_date                0\n",
       "employmentstatus                 0\n",
       "gender                           0\n",
       "income                           0\n",
       "location_code                    0\n",
       "marital_status                   0\n",
       "monthly_premium_auto             0\n",
       "months_since_last_claim          0\n",
       "months_since_policy_inception    0\n",
       "number_of_open_complaints        0\n",
       "number_of_policies               0\n",
       "policy_type                      0\n",
       "policy                           0\n",
       "renew_offer_type                 0\n",
       "sales_channel                    0\n",
       "total_claim_amount               0\n",
       "vehicle_class                    0\n",
       "vehicle_size                     0\n",
       "dtype: int64"
      ]
     },
     "execution_count": 7,
     "metadata": {},
     "output_type": "execute_result"
    }
   ],
   "source": [
    "customer_df.isnull().sum()"
   ]
  },
  {
   "cell_type": "markdown",
   "id": "f2e5fcf8-c38c-418f-861b-364de971fa1a",
   "metadata": {},
   "source": [
    "There aren't any NaNs"
   ]
  },
  {
   "cell_type": "code",
   "execution_count": 8,
   "id": "7697d413-4805-4dc9-b162-db86d3af2d62",
   "metadata": {},
   "outputs": [
    {
     "name": "stdout",
     "output_type": "stream",
     "text": [
      "<class 'pandas.core.frame.DataFrame'>\n",
      "RangeIndex: 9134 entries, 0 to 9133\n",
      "Data columns (total 24 columns):\n",
      " #   Column                         Non-Null Count  Dtype         \n",
      "---  ------                         --------------  -----         \n",
      " 0   customer                       9134 non-null   object        \n",
      " 1   state                          9134 non-null   object        \n",
      " 2   customer_lifetime_value        9134 non-null   float64       \n",
      " 3   response                       9134 non-null   object        \n",
      " 4   coverage                       9134 non-null   object        \n",
      " 5   education                      9134 non-null   object        \n",
      " 6   effective_to_date              9134 non-null   datetime64[ns]\n",
      " 7   employmentstatus               9134 non-null   object        \n",
      " 8   gender                         9134 non-null   object        \n",
      " 9   income                         9134 non-null   int64         \n",
      " 10  location_code                  9134 non-null   object        \n",
      " 11  marital_status                 9134 non-null   object        \n",
      " 12  monthly_premium_auto           9134 non-null   int64         \n",
      " 13  months_since_last_claim        9134 non-null   int64         \n",
      " 14  months_since_policy_inception  9134 non-null   int64         \n",
      " 15  number_of_open_complaints      9134 non-null   int64         \n",
      " 16  number_of_policies             9134 non-null   int64         \n",
      " 17  policy_type                    9134 non-null   object        \n",
      " 18  policy                         9134 non-null   object        \n",
      " 19  renew_offer_type               9134 non-null   object        \n",
      " 20  sales_channel                  9134 non-null   object        \n",
      " 21  total_claim_amount             9134 non-null   float64       \n",
      " 22  vehicle_class                  9134 non-null   object        \n",
      " 23  vehicle_size                   9134 non-null   object        \n",
      "dtypes: datetime64[ns](1), float64(2), int64(6), object(15)\n",
      "memory usage: 1.7+ MB\n"
     ]
    }
   ],
   "source": [
    "customer_df['effective_to_date'] = pd.DatetimeIndex(customer_df['effective_to_date'])\n",
    "customer_df.info()"
   ]
  },
  {
   "cell_type": "markdown",
   "id": "88ec6adc-2ea3-4eb5-bbda-c461cc828a29",
   "metadata": {},
   "source": [
    "<br><h2>Define a functions that given an input dataframe, returns two dataframes: one with the numerical columns and another with categorical columns of the input dataframe.<br>Get the correlation matrix for the numerical variables. What is pair of numerical variables that have the highest correlation? It makes sense, why?<h2>"
   ]
  },
  {
   "cell_type": "code",
   "execution_count": 9,
   "id": "bf6c859d-312e-4e8b-96d2-eba7184ea2e7",
   "metadata": {},
   "outputs": [
    {
     "data": {
      "text/plain": [
       "36"
      ]
     },
     "execution_count": 9,
     "metadata": {},
     "output_type": "execute_result"
    }
   ],
   "source": [
    "customer_df['months_since_last_claim'].value_counts().count()"
   ]
  },
  {
   "cell_type": "markdown",
   "id": "ad80fe13-4af3-4b79-8c92-8263aa88a9f1",
   "metadata": {},
   "source": [
    "def numcat_splitter(df):\n",
    "    df_num = df.select_dtypes(np.number)\n",
    "    df_cat = df.select_dtypes(object)\n",
    "    print('\\nThis is the dataframe with the numerical values:\\n')\n",
    "    display(df_num)\n",
    "    print('\\nThis is the dataframe with the categorical values:\\n')\n",
    "    display(df_cat)\n",
    "    print('\\nThis is the correlation matrix for the numerical values:\\n')\n",
    "    correlations_matrix = df_num.corr()\n",
    "    display(correlations_matrix)\n",
    "    print('\\nWe can see that the total claim amount and monthly premium auto are correlated.\\nThis makes sense as the higher the claim, the more the premium increases')\n",
    "    sns.heatmap(correlations_matrix, annot=True)\n",
    "    plt.show()"
   ]
  },
  {
   "cell_type": "markdown",
   "id": "4994d83c-03db-4962-9f0e-c43fcfeb540a",
   "metadata": {},
   "source": [
    "numcat_splitter(customer_df)"
   ]
  },
  {
   "cell_type": "markdown",
   "id": "dc996442-c80c-4de4-bf33-be5707e4ef26",
   "metadata": {},
   "source": [
    "Drop any ID column."
   ]
  },
  {
   "cell_type": "code",
   "execution_count": 10,
   "id": "16bc85ab-e372-4507-9f74-ce391a32ea70",
   "metadata": {},
   "outputs": [
    {
     "name": "stdout",
     "output_type": "stream",
     "text": [
      "<class 'pandas.core.frame.DataFrame'>\n",
      "RangeIndex: 9134 entries, 0 to 9133\n",
      "Data columns (total 23 columns):\n",
      " #   Column                         Non-Null Count  Dtype         \n",
      "---  ------                         --------------  -----         \n",
      " 0   state                          9134 non-null   object        \n",
      " 1   customer_lifetime_value        9134 non-null   float64       \n",
      " 2   response                       9134 non-null   object        \n",
      " 3   coverage                       9134 non-null   object        \n",
      " 4   education                      9134 non-null   object        \n",
      " 5   effective_to_date              9134 non-null   datetime64[ns]\n",
      " 6   employmentstatus               9134 non-null   object        \n",
      " 7   gender                         9134 non-null   object        \n",
      " 8   income                         9134 non-null   int64         \n",
      " 9   location_code                  9134 non-null   object        \n",
      " 10  marital_status                 9134 non-null   object        \n",
      " 11  monthly_premium_auto           9134 non-null   int64         \n",
      " 12  months_since_last_claim        9134 non-null   int64         \n",
      " 13  months_since_policy_inception  9134 non-null   int64         \n",
      " 14  number_of_open_complaints      9134 non-null   int64         \n",
      " 15  number_of_policies             9134 non-null   int64         \n",
      " 16  policy_type                    9134 non-null   object        \n",
      " 17  policy                         9134 non-null   object        \n",
      " 18  renew_offer_type               9134 non-null   object        \n",
      " 19  sales_channel                  9134 non-null   object        \n",
      " 20  total_claim_amount             9134 non-null   float64       \n",
      " 21  vehicle_class                  9134 non-null   object        \n",
      " 22  vehicle_size                   9134 non-null   object        \n",
      "dtypes: datetime64[ns](1), float64(2), int64(6), object(14)\n",
      "memory usage: 1.6+ MB\n"
     ]
    }
   ],
   "source": [
    "customer_df = customer_df.drop('customer', axis=1)\n",
    "customer_df.info()"
   ]
  },
  {
   "cell_type": "markdown",
   "id": "44f3780f-bd8e-453f-b0bd-ce5c0aacf2fb",
   "metadata": {},
   "source": [
    "<br><h2>-Define a function that takes a pandas DataFrame as an input and returns two pandas DataFrames: the first containing numerical continuous columns and the second containing numerical discrete columns of the input dataframe.<br>To this end, it might be helpful to count the number of unique values. The function must have an optional argument set by default to 36 to discriminate between continuous and discrete columns.<br>Then, use it to create two new dataframes: continuous_df and discrete_df.<br>-Create a function to create a barplot for all the columns of the discrete_df using seaborn, and set the figuresize = (16,16).<br>-Create a function to create a histogram for all the columns of the continuous_df using seaborn, and set the figuresize = (16,16)<br>-According to the previous histogram plots, do you think that you do will have to apply any transformation?<br>-Look for outliers in the continuous variables that you have found. Hint: There was a good plot to do that. Define a function to create this kind of plots for the continuous_df.<h2>"
   ]
  },
  {
   "cell_type": "markdown",
   "id": "8b843101-9800-4cd9-93b1-b7b0971907db",
   "metadata": {},
   "source": [
    "def numerical_split(df, counter=36):\n",
    "    df = df.select_dtypes(np.number)\n",
    "    continuous = df.copy()\n",
    "    discrete = df.copy()\n",
    "    for col in df:\n",
    "        x = df[col].value_counts().count()\n",
    "        if x < counter:\n",
    "            continuous = continuous.drop([col], axis = 1)\n",
    "        else:\n",
    "            discrete = discrete.drop([col], axis = 1)\n",
    "    print('\\nThis dataframe contains the contiuous numerical values')\n",
    "    display(continuous)\n",
    "    print('\\nThis dataframe contains the discrete numerical values')\n",
    "    display(discrete)\n",
    "    print()\n",
    "    fig, axes = plt.subplots(1,2,figsize=(16, 16), dpi=200)\n",
    "    sns.barplot(data = discrete, x='number_of_open_complaints', palette='Blues_d', ax=axes[0])\n",
    "    sns.barplot(data = discrete, x='number_of_policies', ax=axes[1])\n",
    "    plt.tight_layout()\n",
    "    plt.show()\n",
    "    print()\n",
    "    \n",
    "    fig, axes = plt.subplots(3,2,figsize=(16, 16), dpi=200)\n",
    "    sns.histplot(x=\"customer_lifetime_value\", data=continuous, ax=axes[0,0])\n",
    "    sns.histplot(x=\"income\", data=continuous, ax=axes[0,1])\n",
    "    sns.histplot(x=\"monthly_premium_auto\", data=continuous, ax=axes[1,0])\n",
    "    sns.histplot(x=\"months_since_last_claim\", data=continuous, ax=axes[1,1])\n",
    "    sns.histplot(x=\"months_since_policy_inception\", data=continuous, ax=axes[2,0])\n",
    "    sns.histplot(x=\"total_claim_amount\", data=continuous, ax=axes[2,1])\n",
    "    plt.tight_layout()\n",
    "    plt.show()\n",
    "    print('\\nWe will have to normalize this data as the scales are very different among columns\\n\\n')\n",
    "    \n",
    "    fig, axes = plt.subplots(3,2,figsize=(16, 16), dpi=200)\n",
    "    sns.boxplot(x=\"customer_lifetime_value\", data=continuous, ax=axes[0,0])\n",
    "    sns.boxplot(x=\"income\", data=continuous, ax=axes[0,1])\n",
    "    sns.boxplot(x=\"monthly_premium_auto\", data=continuous, ax=axes[1,0])\n",
    "    sns.boxplot(x=\"months_since_last_claim\", data=continuous, ax=axes[1,1])\n",
    "    sns.boxplot(x=\"months_since_policy_inception\", data=continuous, ax=axes[2,0])\n",
    "    sns.boxplot(x=\"total_claim_amount\", data=continuous, ax=axes[2,1])\n",
    "    plt.tight_layout()\n",
    "    plt.show()\n",
    "    print('\\nThere are some columns with a load of outliers, and income is also affected by the customers with 0 income\\n\\n')\n"
   ]
  },
  {
   "cell_type": "markdown",
   "id": "9fa5c678-15a7-470f-b658-37f9657911a0",
   "metadata": {},
   "source": [
    "numerical_split(customer_df)"
   ]
  },
  {
   "cell_type": "markdown",
   "id": "4991b4c8-2e2f-484c-831d-c82e8c223f52",
   "metadata": {},
   "source": [
    "<br><h1>Lab | Cleaning Categorical Data<h1>"
   ]
  },
  {
   "cell_type": "code",
   "execution_count": 11,
   "id": "03104804-fa24-4aa1-946c-43ae8f7162c9",
   "metadata": {},
   "outputs": [
    {
     "data": {
      "text/html": [
       "<div>\n",
       "<style scoped>\n",
       "    .dataframe tbody tr th:only-of-type {\n",
       "        vertical-align: middle;\n",
       "    }\n",
       "\n",
       "    .dataframe tbody tr th {\n",
       "        vertical-align: top;\n",
       "    }\n",
       "\n",
       "    .dataframe thead th {\n",
       "        text-align: right;\n",
       "    }\n",
       "</style>\n",
       "<table border=\"1\" class=\"dataframe\">\n",
       "  <thead>\n",
       "    <tr style=\"text-align: right;\">\n",
       "      <th></th>\n",
       "      <th>state</th>\n",
       "      <th>response</th>\n",
       "      <th>coverage</th>\n",
       "      <th>education</th>\n",
       "      <th>employmentstatus</th>\n",
       "      <th>gender</th>\n",
       "      <th>location_code</th>\n",
       "      <th>marital_status</th>\n",
       "      <th>policy_type</th>\n",
       "      <th>policy</th>\n",
       "      <th>renew_offer_type</th>\n",
       "      <th>sales_channel</th>\n",
       "      <th>vehicle_class</th>\n",
       "      <th>vehicle_size</th>\n",
       "    </tr>\n",
       "  </thead>\n",
       "  <tbody>\n",
       "    <tr>\n",
       "      <th>0</th>\n",
       "      <td>Washington</td>\n",
       "      <td>No</td>\n",
       "      <td>Basic</td>\n",
       "      <td>Bachelor</td>\n",
       "      <td>Employed</td>\n",
       "      <td>F</td>\n",
       "      <td>Suburban</td>\n",
       "      <td>Married</td>\n",
       "      <td>Corporate Auto</td>\n",
       "      <td>Corporate L3</td>\n",
       "      <td>Offer1</td>\n",
       "      <td>Agent</td>\n",
       "      <td>Two-Door Car</td>\n",
       "      <td>Medsize</td>\n",
       "    </tr>\n",
       "    <tr>\n",
       "      <th>1</th>\n",
       "      <td>Arizona</td>\n",
       "      <td>No</td>\n",
       "      <td>Extended</td>\n",
       "      <td>Bachelor</td>\n",
       "      <td>Unemployed</td>\n",
       "      <td>F</td>\n",
       "      <td>Suburban</td>\n",
       "      <td>Single</td>\n",
       "      <td>Personal Auto</td>\n",
       "      <td>Personal L3</td>\n",
       "      <td>Offer3</td>\n",
       "      <td>Agent</td>\n",
       "      <td>Four-Door Car</td>\n",
       "      <td>Medsize</td>\n",
       "    </tr>\n",
       "    <tr>\n",
       "      <th>2</th>\n",
       "      <td>Nevada</td>\n",
       "      <td>No</td>\n",
       "      <td>Premium</td>\n",
       "      <td>Bachelor</td>\n",
       "      <td>Employed</td>\n",
       "      <td>F</td>\n",
       "      <td>Suburban</td>\n",
       "      <td>Married</td>\n",
       "      <td>Personal Auto</td>\n",
       "      <td>Personal L3</td>\n",
       "      <td>Offer1</td>\n",
       "      <td>Agent</td>\n",
       "      <td>Two-Door Car</td>\n",
       "      <td>Medsize</td>\n",
       "    </tr>\n",
       "    <tr>\n",
       "      <th>3</th>\n",
       "      <td>California</td>\n",
       "      <td>No</td>\n",
       "      <td>Basic</td>\n",
       "      <td>Bachelor</td>\n",
       "      <td>Unemployed</td>\n",
       "      <td>M</td>\n",
       "      <td>Suburban</td>\n",
       "      <td>Married</td>\n",
       "      <td>Corporate Auto</td>\n",
       "      <td>Corporate L2</td>\n",
       "      <td>Offer1</td>\n",
       "      <td>Call Center</td>\n",
       "      <td>SUV</td>\n",
       "      <td>Medsize</td>\n",
       "    </tr>\n",
       "    <tr>\n",
       "      <th>4</th>\n",
       "      <td>Washington</td>\n",
       "      <td>No</td>\n",
       "      <td>Basic</td>\n",
       "      <td>Bachelor</td>\n",
       "      <td>Employed</td>\n",
       "      <td>M</td>\n",
       "      <td>Rural</td>\n",
       "      <td>Single</td>\n",
       "      <td>Personal Auto</td>\n",
       "      <td>Personal L1</td>\n",
       "      <td>Offer1</td>\n",
       "      <td>Agent</td>\n",
       "      <td>Four-Door Car</td>\n",
       "      <td>Medsize</td>\n",
       "    </tr>\n",
       "    <tr>\n",
       "      <th>...</th>\n",
       "      <td>...</td>\n",
       "      <td>...</td>\n",
       "      <td>...</td>\n",
       "      <td>...</td>\n",
       "      <td>...</td>\n",
       "      <td>...</td>\n",
       "      <td>...</td>\n",
       "      <td>...</td>\n",
       "      <td>...</td>\n",
       "      <td>...</td>\n",
       "      <td>...</td>\n",
       "      <td>...</td>\n",
       "      <td>...</td>\n",
       "      <td>...</td>\n",
       "    </tr>\n",
       "    <tr>\n",
       "      <th>9129</th>\n",
       "      <td>California</td>\n",
       "      <td>No</td>\n",
       "      <td>Basic</td>\n",
       "      <td>Bachelor</td>\n",
       "      <td>Employed</td>\n",
       "      <td>M</td>\n",
       "      <td>Urban</td>\n",
       "      <td>Married</td>\n",
       "      <td>Personal Auto</td>\n",
       "      <td>Personal L1</td>\n",
       "      <td>Offer2</td>\n",
       "      <td>Web</td>\n",
       "      <td>Four-Door Car</td>\n",
       "      <td>Medsize</td>\n",
       "    </tr>\n",
       "    <tr>\n",
       "      <th>9130</th>\n",
       "      <td>California</td>\n",
       "      <td>Yes</td>\n",
       "      <td>Extended</td>\n",
       "      <td>College</td>\n",
       "      <td>Employed</td>\n",
       "      <td>F</td>\n",
       "      <td>Suburban</td>\n",
       "      <td>Divorced</td>\n",
       "      <td>Corporate Auto</td>\n",
       "      <td>Corporate L3</td>\n",
       "      <td>Offer1</td>\n",
       "      <td>Branch</td>\n",
       "      <td>Four-Door Car</td>\n",
       "      <td>Medsize</td>\n",
       "    </tr>\n",
       "    <tr>\n",
       "      <th>9131</th>\n",
       "      <td>California</td>\n",
       "      <td>No</td>\n",
       "      <td>Extended</td>\n",
       "      <td>Bachelor</td>\n",
       "      <td>Unemployed</td>\n",
       "      <td>M</td>\n",
       "      <td>Suburban</td>\n",
       "      <td>Single</td>\n",
       "      <td>Corporate Auto</td>\n",
       "      <td>Corporate L2</td>\n",
       "      <td>Offer1</td>\n",
       "      <td>Branch</td>\n",
       "      <td>Four-Door Car</td>\n",
       "      <td>Medsize</td>\n",
       "    </tr>\n",
       "    <tr>\n",
       "      <th>9132</th>\n",
       "      <td>California</td>\n",
       "      <td>No</td>\n",
       "      <td>Extended</td>\n",
       "      <td>College</td>\n",
       "      <td>Employed</td>\n",
       "      <td>M</td>\n",
       "      <td>Suburban</td>\n",
       "      <td>Married</td>\n",
       "      <td>Personal Auto</td>\n",
       "      <td>Personal L2</td>\n",
       "      <td>Offer3</td>\n",
       "      <td>Branch</td>\n",
       "      <td>Four-Door Car</td>\n",
       "      <td>Large</td>\n",
       "    </tr>\n",
       "    <tr>\n",
       "      <th>9133</th>\n",
       "      <td>California</td>\n",
       "      <td>No</td>\n",
       "      <td>Extended</td>\n",
       "      <td>College</td>\n",
       "      <td>Unemployed</td>\n",
       "      <td>M</td>\n",
       "      <td>Suburban</td>\n",
       "      <td>Single</td>\n",
       "      <td>Corporate Auto</td>\n",
       "      <td>Corporate L3</td>\n",
       "      <td>Offer4</td>\n",
       "      <td>Call Center</td>\n",
       "      <td>Two-Door Car</td>\n",
       "      <td>Medsize</td>\n",
       "    </tr>\n",
       "  </tbody>\n",
       "</table>\n",
       "<p>9134 rows × 14 columns</p>\n",
       "</div>"
      ],
      "text/plain": [
       "           state response  coverage education employmentstatus gender  \\\n",
       "0     Washington       No     Basic  Bachelor         Employed      F   \n",
       "1        Arizona       No  Extended  Bachelor       Unemployed      F   \n",
       "2         Nevada       No   Premium  Bachelor         Employed      F   \n",
       "3     California       No     Basic  Bachelor       Unemployed      M   \n",
       "4     Washington       No     Basic  Bachelor         Employed      M   \n",
       "...          ...      ...       ...       ...              ...    ...   \n",
       "9129  California       No     Basic  Bachelor         Employed      M   \n",
       "9130  California      Yes  Extended   College         Employed      F   \n",
       "9131  California       No  Extended  Bachelor       Unemployed      M   \n",
       "9132  California       No  Extended   College         Employed      M   \n",
       "9133  California       No  Extended   College       Unemployed      M   \n",
       "\n",
       "     location_code marital_status     policy_type        policy  \\\n",
       "0         Suburban        Married  Corporate Auto  Corporate L3   \n",
       "1         Suburban         Single   Personal Auto   Personal L3   \n",
       "2         Suburban        Married   Personal Auto   Personal L3   \n",
       "3         Suburban        Married  Corporate Auto  Corporate L2   \n",
       "4            Rural         Single   Personal Auto   Personal L1   \n",
       "...            ...            ...             ...           ...   \n",
       "9129         Urban        Married   Personal Auto   Personal L1   \n",
       "9130      Suburban       Divorced  Corporate Auto  Corporate L3   \n",
       "9131      Suburban         Single  Corporate Auto  Corporate L2   \n",
       "9132      Suburban        Married   Personal Auto   Personal L2   \n",
       "9133      Suburban         Single  Corporate Auto  Corporate L3   \n",
       "\n",
       "     renew_offer_type sales_channel  vehicle_class vehicle_size  \n",
       "0              Offer1         Agent   Two-Door Car      Medsize  \n",
       "1              Offer3         Agent  Four-Door Car      Medsize  \n",
       "2              Offer1         Agent   Two-Door Car      Medsize  \n",
       "3              Offer1   Call Center            SUV      Medsize  \n",
       "4              Offer1         Agent  Four-Door Car      Medsize  \n",
       "...               ...           ...            ...          ...  \n",
       "9129           Offer2           Web  Four-Door Car      Medsize  \n",
       "9130           Offer1        Branch  Four-Door Car      Medsize  \n",
       "9131           Offer1        Branch  Four-Door Car      Medsize  \n",
       "9132           Offer3        Branch  Four-Door Car        Large  \n",
       "9133           Offer4   Call Center   Two-Door Car      Medsize  \n",
       "\n",
       "[9134 rows x 14 columns]"
      ]
     },
     "execution_count": 11,
     "metadata": {},
     "output_type": "execute_result"
    }
   ],
   "source": [
    "customer_df.select_dtypes(object)"
   ]
  },
  {
   "cell_type": "markdown",
   "id": "735b69ed-55b4-4074-a534-e4dac2ecd215",
   "metadata": {},
   "source": [
    "def kitty_kitty(df):\n",
    "    cat = df.select_dtypes(object)\n",
    "    cols = [col for col in cat.columns]\n",
    "    \n",
    "    for i in cols:\n",
    "        if (len(customer_df[i].value_counts(dropna=False).index)) < 6:\n",
    "            sns.countplot(data=cat, x=i, order= cat[i].value_counts(dropna=False).index)\n",
    "            plt.title(i)\n",
    "            plt.tight_layout()        \n",
    "            plt.show()\n",
    "        else:\n",
    "            sns.countplot(data=cat, y=i, order= cat[i].value_counts(dropna=False).index)\n",
    "            plt.title(i)\n",
    "            plt.tight_layout()        \n",
    "            plt.show()\n",
    "    "
   ]
  },
  {
   "cell_type": "markdown",
   "id": "49e7aa14-dccc-43d3-980a-cf8c0ced2708",
   "metadata": {},
   "source": [
    "kitty_kitty(customer_df)"
   ]
  },
  {
   "cell_type": "markdown",
   "id": "b51d11a8-5615-4c93-84d9-59a7f844e5eb",
   "metadata": {},
   "source": [
    "<br><h2>Drop the column policy_type and transform the column policy to three possible values: L1, L2, and L3 using a function.<h2>"
   ]
  },
  {
   "cell_type": "code",
   "execution_count": 12,
   "id": "5bec71fa-e2df-43bf-85f0-58e4fabfe9b5",
   "metadata": {},
   "outputs": [],
   "source": [
    "def policy_fixer(df):\n",
    "    df = df.drop(['policy_type'], axis=1)\n",
    "    \n",
    "    df['policy'] = df['policy'].replace(to_replace=('Personal L1', 'Corporate L1', 'Special L1'), value='L1')\n",
    "    df['policy'] = df['policy'].replace(to_replace=('Personal L2', 'Corporate L2', 'Special L2'), value='L2')\n",
    "    df['policy'] = df['policy'].replace(to_replace=('Personal L3', 'Corporate L3', 'Special L3'), value='L3')\n",
    "    \n",
    "    return df"
   ]
  },
  {
   "cell_type": "code",
   "execution_count": 13,
   "id": "2f57213c-cba7-4aaf-acd8-1345594badd5",
   "metadata": {},
   "outputs": [],
   "source": [
    "customer_df = policy_fixer(customer_df)"
   ]
  },
  {
   "cell_type": "code",
   "execution_count": 14,
   "id": "f849be43-b3c4-4766-83d0-bf2dbd45995c",
   "metadata": {},
   "outputs": [
    {
     "data": {
      "text/plain": [
       "L3    4588\n",
       "L2    2881\n",
       "L1    1665\n",
       "Name: policy, dtype: int64"
      ]
     },
     "execution_count": 14,
     "metadata": {},
     "output_type": "execute_result"
    }
   ],
   "source": [
    "customer_df['policy'].value_counts()"
   ]
  },
  {
   "cell_type": "markdown",
   "id": "2cb497ac-3cd6-436d-856b-c033efcc69a1",
   "metadata": {},
   "source": [
    "<br><h2>Time dependency analysis. Use a seaborn lineplot using the column effective_to_date to see if total_claim_amount is bigger at some specific dates. Use a figsize=(10,10)<h2>"
   ]
  },
  {
   "cell_type": "markdown",
   "id": "a5eca9de-608e-416a-a26f-91842d2787b2",
   "metadata": {},
   "source": [
    "fig, ax = plt.subplots(figsize=(10,10), dpi=300)\n",
    "sns.lineplot(data = customer_df, x='effective_to_date', y='total_claim_amount')\n",
    "plt.tight_layout()        \n",
    "plt.show()"
   ]
  },
  {
   "cell_type": "markdown",
   "id": "c1a9d38a-735d-4f0e-a2d6-566fa6107aed",
   "metadata": {},
   "source": [
    "<br><h2>To continue the analysis define an empty pandas DataFrame, and add the following new columns:\n",
    "\n",
    "-day with the day number of effective_to_date<br>\n",
    "-day_name with the day NAME of effective_to_date<br>\n",
    "-week with the week of effective_to_date<br>\n",
    "-month with the month NAME of effective_to_date<br>\n",
    "-total_claim_amount with total_claim_amount<h2>"
   ]
  },
  {
   "cell_type": "code",
   "execution_count": 15,
   "id": "2cb215a0-8fe9-4aaa-9742-b1ef44f219b3",
   "metadata": {},
   "outputs": [
    {
     "name": "stderr",
     "output_type": "stream",
     "text": [
      "/tmp/ipykernel_7612/484126021.py:5: FutureWarning: weekofyear and week have been deprecated, please use DatetimeIndex.isocalendar().week instead, which returns a Series. To exactly reproduce the behavior of week and weekofyear and return an Index, you may call pd.Int64Index(idx.isocalendar().week)\n",
      "  new['week'] = pd.DatetimeIndex(customer_df['effective_to_date']).week\n"
     ]
    }
   ],
   "source": [
    "new = pd.DataFrame()\n",
    "new['day'] = pd.DatetimeIndex(customer_df['effective_to_date']).day\n",
    "new['day_name'] = pd.DatetimeIndex(customer_df['effective_to_date']).day_of_week\n",
    "new['day_name'] = new['day_name'].replace(to_replace=(0,1,2,3,4,5,6), value=('Monday', 'Tuesday', 'Wednesday', 'Thursday', 'Friday', 'Saturday', 'Sunday'))\n",
    "new['week'] = pd.DatetimeIndex(customer_df['effective_to_date']).week\n",
    "new['month'] = pd.DatetimeIndex(customer_df['effective_to_date']).month\n",
    "new['month'] = new['month'].replace(to_replace=(1,2), value=('January', 'February'))\n",
    "new['total_claim_amount'] = round(customer_df['total_claim_amount'],2)"
   ]
  },
  {
   "cell_type": "code",
   "execution_count": 16,
   "id": "c7414693-8e93-48db-87ca-9ef21c7a1ab7",
   "metadata": {},
   "outputs": [
    {
     "data": {
      "text/html": [
       "<div>\n",
       "<style scoped>\n",
       "    .dataframe tbody tr th:only-of-type {\n",
       "        vertical-align: middle;\n",
       "    }\n",
       "\n",
       "    .dataframe tbody tr th {\n",
       "        vertical-align: top;\n",
       "    }\n",
       "\n",
       "    .dataframe thead th {\n",
       "        text-align: right;\n",
       "    }\n",
       "</style>\n",
       "<table border=\"1\" class=\"dataframe\">\n",
       "  <thead>\n",
       "    <tr style=\"text-align: right;\">\n",
       "      <th></th>\n",
       "      <th>day</th>\n",
       "      <th>day_name</th>\n",
       "      <th>week</th>\n",
       "      <th>month</th>\n",
       "      <th>total_claim_amount</th>\n",
       "    </tr>\n",
       "  </thead>\n",
       "  <tbody>\n",
       "    <tr>\n",
       "      <th>0</th>\n",
       "      <td>24</td>\n",
       "      <td>Thursday</td>\n",
       "      <td>8</td>\n",
       "      <td>February</td>\n",
       "      <td>384.81</td>\n",
       "    </tr>\n",
       "    <tr>\n",
       "      <th>1</th>\n",
       "      <td>31</td>\n",
       "      <td>Monday</td>\n",
       "      <td>5</td>\n",
       "      <td>January</td>\n",
       "      <td>1131.46</td>\n",
       "    </tr>\n",
       "    <tr>\n",
       "      <th>2</th>\n",
       "      <td>19</td>\n",
       "      <td>Saturday</td>\n",
       "      <td>7</td>\n",
       "      <td>February</td>\n",
       "      <td>566.47</td>\n",
       "    </tr>\n",
       "    <tr>\n",
       "      <th>3</th>\n",
       "      <td>20</td>\n",
       "      <td>Thursday</td>\n",
       "      <td>3</td>\n",
       "      <td>January</td>\n",
       "      <td>529.88</td>\n",
       "    </tr>\n",
       "    <tr>\n",
       "      <th>4</th>\n",
       "      <td>3</td>\n",
       "      <td>Thursday</td>\n",
       "      <td>5</td>\n",
       "      <td>February</td>\n",
       "      <td>138.13</td>\n",
       "    </tr>\n",
       "    <tr>\n",
       "      <th>...</th>\n",
       "      <td>...</td>\n",
       "      <td>...</td>\n",
       "      <td>...</td>\n",
       "      <td>...</td>\n",
       "      <td>...</td>\n",
       "    </tr>\n",
       "    <tr>\n",
       "      <th>9129</th>\n",
       "      <td>10</td>\n",
       "      <td>Thursday</td>\n",
       "      <td>6</td>\n",
       "      <td>February</td>\n",
       "      <td>198.23</td>\n",
       "    </tr>\n",
       "    <tr>\n",
       "      <th>9130</th>\n",
       "      <td>12</td>\n",
       "      <td>Saturday</td>\n",
       "      <td>6</td>\n",
       "      <td>February</td>\n",
       "      <td>379.20</td>\n",
       "    </tr>\n",
       "    <tr>\n",
       "      <th>9131</th>\n",
       "      <td>6</td>\n",
       "      <td>Sunday</td>\n",
       "      <td>5</td>\n",
       "      <td>February</td>\n",
       "      <td>790.78</td>\n",
       "    </tr>\n",
       "    <tr>\n",
       "      <th>9132</th>\n",
       "      <td>3</td>\n",
       "      <td>Thursday</td>\n",
       "      <td>5</td>\n",
       "      <td>February</td>\n",
       "      <td>691.20</td>\n",
       "    </tr>\n",
       "    <tr>\n",
       "      <th>9133</th>\n",
       "      <td>14</td>\n",
       "      <td>Monday</td>\n",
       "      <td>7</td>\n",
       "      <td>February</td>\n",
       "      <td>369.60</td>\n",
       "    </tr>\n",
       "  </tbody>\n",
       "</table>\n",
       "<p>9134 rows × 5 columns</p>\n",
       "</div>"
      ],
      "text/plain": [
       "      day  day_name  week     month  total_claim_amount\n",
       "0      24  Thursday     8  February              384.81\n",
       "1      31    Monday     5   January             1131.46\n",
       "2      19  Saturday     7  February              566.47\n",
       "3      20  Thursday     3   January              529.88\n",
       "4       3  Thursday     5  February              138.13\n",
       "...   ...       ...   ...       ...                 ...\n",
       "9129   10  Thursday     6  February              198.23\n",
       "9130   12  Saturday     6  February              379.20\n",
       "9131    6    Sunday     5  February              790.78\n",
       "9132    3  Thursday     5  February              691.20\n",
       "9133   14    Monday     7  February              369.60\n",
       "\n",
       "[9134 rows x 5 columns]"
      ]
     },
     "execution_count": 16,
     "metadata": {},
     "output_type": "execute_result"
    }
   ],
   "source": [
    "new"
   ]
  },
  {
   "cell_type": "markdown",
   "id": "6173fe26-ad3a-46db-aced-383852d99c48",
   "metadata": {},
   "source": [
    "<br><h2>Compute the total target column aggregated day_name rounded to two decimals and then reorder the index of the resulting pandas series using .reindex(index=list_of_correct_days)<h2>"
   ]
  },
  {
   "cell_type": "code",
   "execution_count": 17,
   "id": "03a7e083-7d49-4287-9ab9-fd08829e869d",
   "metadata": {},
   "outputs": [],
   "source": [
    "new_byday = new.groupby(['day_name']).agg({'total_claim_amount':sum})\n",
    "new_byday = new_byday.reindex(index=('Monday', 'Tuesday', 'Wednesday', 'Thursday', 'Friday', 'Saturday', 'Sunday')).reset_index()"
   ]
  },
  {
   "cell_type": "code",
   "execution_count": 18,
   "id": "1fc69333-abd5-4fd3-84d0-8bb4d6802744",
   "metadata": {},
   "outputs": [
    {
     "data": {
      "text/html": [
       "<div>\n",
       "<style scoped>\n",
       "    .dataframe tbody tr th:only-of-type {\n",
       "        vertical-align: middle;\n",
       "    }\n",
       "\n",
       "    .dataframe tbody tr th {\n",
       "        vertical-align: top;\n",
       "    }\n",
       "\n",
       "    .dataframe thead th {\n",
       "        text-align: right;\n",
       "    }\n",
       "</style>\n",
       "<table border=\"1\" class=\"dataframe\">\n",
       "  <thead>\n",
       "    <tr style=\"text-align: right;\">\n",
       "      <th></th>\n",
       "      <th>day_name</th>\n",
       "      <th>total_claim_amount</th>\n",
       "    </tr>\n",
       "  </thead>\n",
       "  <tbody>\n",
       "    <tr>\n",
       "      <th>0</th>\n",
       "      <td>Monday</td>\n",
       "      <td>655689.67</td>\n",
       "    </tr>\n",
       "    <tr>\n",
       "      <th>1</th>\n",
       "      <td>Tuesday</td>\n",
       "      <td>502518.87</td>\n",
       "    </tr>\n",
       "    <tr>\n",
       "      <th>2</th>\n",
       "      <td>Wednesday</td>\n",
       "      <td>541563.08</td>\n",
       "    </tr>\n",
       "    <tr>\n",
       "      <th>3</th>\n",
       "      <td>Thursday</td>\n",
       "      <td>541821.10</td>\n",
       "    </tr>\n",
       "    <tr>\n",
       "      <th>4</th>\n",
       "      <td>Friday</td>\n",
       "      <td>533658.74</td>\n",
       "    </tr>\n",
       "    <tr>\n",
       "      <th>5</th>\n",
       "      <td>Saturday</td>\n",
       "      <td>608060.25</td>\n",
       "    </tr>\n",
       "    <tr>\n",
       "      <th>6</th>\n",
       "      <td>Sunday</td>\n",
       "      <td>581655.70</td>\n",
       "    </tr>\n",
       "  </tbody>\n",
       "</table>\n",
       "</div>"
      ],
      "text/plain": [
       "    day_name  total_claim_amount\n",
       "0     Monday           655689.67\n",
       "1    Tuesday           502518.87\n",
       "2  Wednesday           541563.08\n",
       "3   Thursday           541821.10\n",
       "4     Friday           533658.74\n",
       "5   Saturday           608060.25\n",
       "6     Sunday           581655.70"
      ]
     },
     "metadata": {},
     "output_type": "display_data"
    }
   ],
   "source": [
    "display(new_byday)"
   ]
  },
  {
   "cell_type": "markdown",
   "id": "851ae6fb-0c26-4982-9a4e-d3a135b206df",
   "metadata": {},
   "source": [
    "<br><h2>Use a seaborn lineplot to plot the previous series. Do you see some differences by day of the week?<h2>"
   ]
  },
  {
   "cell_type": "markdown",
   "id": "bdd88bc8-5d73-4466-abe1-b9da1b33325e",
   "metadata": {},
   "source": [
    "fig, ax = plt.subplots(figsize=(20,8), dpi=300)\n",
    "sns.lineplot(data = new_byday, x='day_name', y='total_claim_amount')\n",
    "plt.tight_layout()\n",
    "plt.show()"
   ]
  },
  {
   "cell_type": "markdown",
   "id": "e8fe5cb0-28d8-41f3-9eb9-bcaafe9606a2",
   "metadata": {},
   "source": [
    "<br><h4>Monday, Saturday and Sunday have the maximum values, indicating more serious accidents on the weekend (people also reporting damages when coming back on day one). <br><h4>"
   ]
  },
  {
   "cell_type": "markdown",
   "id": "dee4bace-9b69-4e3b-8817-1e681476f0e3",
   "metadata": {},
   "source": [
    "<br><h2>Get the total number of claims by day of the week name and then reorder the index of the resulting pandas series using .reindex(index=list_of_correct_values)<h2>"
   ]
  },
  {
   "cell_type": "code",
   "execution_count": 19,
   "id": "a65b31ec-c6b5-42df-be96-155b065fa77f",
   "metadata": {},
   "outputs": [],
   "source": [
    "new['number_of_open_complaints'] = customer_df['number_of_open_complaints']"
   ]
  },
  {
   "cell_type": "code",
   "execution_count": 20,
   "id": "38033abd-a10e-4996-840c-39402d52110a",
   "metadata": {},
   "outputs": [
    {
     "data": {
      "text/html": [
       "<div>\n",
       "<style scoped>\n",
       "    .dataframe tbody tr th:only-of-type {\n",
       "        vertical-align: middle;\n",
       "    }\n",
       "\n",
       "    .dataframe tbody tr th {\n",
       "        vertical-align: top;\n",
       "    }\n",
       "\n",
       "    .dataframe thead th {\n",
       "        text-align: right;\n",
       "    }\n",
       "</style>\n",
       "<table border=\"1\" class=\"dataframe\">\n",
       "  <thead>\n",
       "    <tr style=\"text-align: right;\">\n",
       "      <th></th>\n",
       "      <th>day_name</th>\n",
       "      <th>number_of_open_complaints</th>\n",
       "    </tr>\n",
       "  </thead>\n",
       "  <tbody>\n",
       "    <tr>\n",
       "      <th>0</th>\n",
       "      <td>Monday</td>\n",
       "      <td>652</td>\n",
       "    </tr>\n",
       "    <tr>\n",
       "      <th>1</th>\n",
       "      <td>Tuesday</td>\n",
       "      <td>456</td>\n",
       "    </tr>\n",
       "    <tr>\n",
       "      <th>2</th>\n",
       "      <td>Wednesday</td>\n",
       "      <td>422</td>\n",
       "    </tr>\n",
       "    <tr>\n",
       "      <th>3</th>\n",
       "      <td>Thursday</td>\n",
       "      <td>446</td>\n",
       "    </tr>\n",
       "    <tr>\n",
       "      <th>4</th>\n",
       "      <td>Friday</td>\n",
       "      <td>458</td>\n",
       "    </tr>\n",
       "    <tr>\n",
       "      <th>5</th>\n",
       "      <td>Saturday</td>\n",
       "      <td>530</td>\n",
       "    </tr>\n",
       "    <tr>\n",
       "      <th>6</th>\n",
       "      <td>Sunday</td>\n",
       "      <td>547</td>\n",
       "    </tr>\n",
       "  </tbody>\n",
       "</table>\n",
       "</div>"
      ],
      "text/plain": [
       "    day_name  number_of_open_complaints\n",
       "0     Monday                        652\n",
       "1    Tuesday                        456\n",
       "2  Wednesday                        422\n",
       "3   Thursday                        446\n",
       "4     Friday                        458\n",
       "5   Saturday                        530\n",
       "6     Sunday                        547"
      ]
     },
     "execution_count": 20,
     "metadata": {},
     "output_type": "execute_result"
    }
   ],
   "source": [
    "new_bydayname = new.groupby(['day_name']).agg({'number_of_open_complaints':sum})\n",
    "new_bydayname = new_bydayname.reindex(index=('Monday', 'Tuesday', 'Wednesday', 'Thursday', 'Friday', 'Saturday', 'Sunday')).reset_index()\n",
    "new_bydayname"
   ]
  },
  {
   "cell_type": "markdown",
   "id": "a5fa679d-00d7-458f-9d69-48c39029bbd9",
   "metadata": {},
   "source": [
    "<br><h2>Get the median \"target\" by day of the week name and then sort the resulting values in descending order using .sort_values()<h2>"
   ]
  },
  {
   "cell_type": "code",
   "execution_count": 21,
   "id": "1b12ddf4-9245-402e-8364-e47e2d2eea06",
   "metadata": {},
   "outputs": [
    {
     "data": {
      "text/html": [
       "<div>\n",
       "<style scoped>\n",
       "    .dataframe tbody tr th:only-of-type {\n",
       "        vertical-align: middle;\n",
       "    }\n",
       "\n",
       "    .dataframe tbody tr th {\n",
       "        vertical-align: top;\n",
       "    }\n",
       "\n",
       "    .dataframe thead th {\n",
       "        text-align: right;\n",
       "    }\n",
       "</style>\n",
       "<table border=\"1\" class=\"dataframe\">\n",
       "  <thead>\n",
       "    <tr style=\"text-align: right;\">\n",
       "      <th></th>\n",
       "      <th>day_name</th>\n",
       "      <th>number_of_open_complaints</th>\n",
       "    </tr>\n",
       "  </thead>\n",
       "  <tbody>\n",
       "    <tr>\n",
       "      <th>0</th>\n",
       "      <td>Monday</td>\n",
       "      <td>652.0</td>\n",
       "    </tr>\n",
       "    <tr>\n",
       "      <th>1</th>\n",
       "      <td>Sunday</td>\n",
       "      <td>547.0</td>\n",
       "    </tr>\n",
       "    <tr>\n",
       "      <th>2</th>\n",
       "      <td>Saturday</td>\n",
       "      <td>530.0</td>\n",
       "    </tr>\n",
       "    <tr>\n",
       "      <th>3</th>\n",
       "      <td>Friday</td>\n",
       "      <td>458.0</td>\n",
       "    </tr>\n",
       "    <tr>\n",
       "      <th>4</th>\n",
       "      <td>Tuesday</td>\n",
       "      <td>456.0</td>\n",
       "    </tr>\n",
       "    <tr>\n",
       "      <th>5</th>\n",
       "      <td>Thursday</td>\n",
       "      <td>446.0</td>\n",
       "    </tr>\n",
       "    <tr>\n",
       "      <th>6</th>\n",
       "      <td>Wednesday</td>\n",
       "      <td>422.0</td>\n",
       "    </tr>\n",
       "  </tbody>\n",
       "</table>\n",
       "</div>"
      ],
      "text/plain": [
       "    day_name  number_of_open_complaints\n",
       "0     Monday                      652.0\n",
       "1     Sunday                      547.0\n",
       "2   Saturday                      530.0\n",
       "3     Friday                      458.0\n",
       "4    Tuesday                      456.0\n",
       "5   Thursday                      446.0\n",
       "6  Wednesday                      422.0"
      ]
     },
     "execution_count": 21,
     "metadata": {},
     "output_type": "execute_result"
    }
   ],
   "source": [
    "new_bydayname_med = new_bydayname.groupby(['day_name']).agg({'number_of_open_complaints':np.median}).sort_values(by='number_of_open_complaints', ascending=False).reset_index()\n",
    "new_bydayname_med"
   ]
  },
  {
   "cell_type": "markdown",
   "id": "9aa975e8-2ff0-4d0b-9b13-27e017168cdf",
   "metadata": {},
   "source": [
    "<br><h2>Plot the median \"target\" by day of the week name using a seaborn barplot<h2>"
   ]
  },
  {
   "cell_type": "markdown",
   "id": "8f2760f5-1042-4c86-b960-bcf9a3a0e3fe",
   "metadata": {},
   "source": [
    "fig, ax = plt.subplots(figsize=(20,8), dpi=300)\n",
    "sns.barplot(data = new_bydayname_med, x='day_name', y='number_of_open_complaints')\n",
    "plt.tight_layout()\n",
    "plt.show()"
   ]
  },
  {
   "cell_type": "markdown",
   "id": "6000fdb5-7db4-4157-a2c2-13a02fd36fb4",
   "metadata": {},
   "source": [
    "<br><h2>What do you can conclude from this analysis?<h2>"
   ]
  },
  {
   "cell_type": "markdown",
   "id": "54c36758-4fdf-44ed-b77f-752ffd6a9496",
   "metadata": {
    "toc-hr-collapsed": true
   },
   "source": [
    "<h4>That depending on the day there are more open complaints and also the claimed amounts are higher - customers open them more on Monday after the weekend has finished, and also during the weekend they increase, suggesting a higher mobility of the customers on the weekends thus a bigger probability of accidents.<br><h4>"
   ]
  },
  {
   "cell_type": "markdown",
   "id": "01e2c371-ddd3-4876-8b8a-00cc535d8419",
   "metadata": {},
   "source": [
    "<br><h2>Compute the total target column aggregated month rounded to two decimals and then reorder the index of the resulting pandas series using .reindex(index=list_of_correct_values)<h2>"
   ]
  },
  {
   "cell_type": "code",
   "execution_count": 22,
   "id": "8339ae85-d0f9-4fd6-80b4-b80152b8de24",
   "metadata": {},
   "outputs": [
    {
     "data": {
      "text/html": [
       "<div>\n",
       "<style scoped>\n",
       "    .dataframe tbody tr th:only-of-type {\n",
       "        vertical-align: middle;\n",
       "    }\n",
       "\n",
       "    .dataframe tbody tr th {\n",
       "        vertical-align: top;\n",
       "    }\n",
       "\n",
       "    .dataframe thead th {\n",
       "        text-align: right;\n",
       "    }\n",
       "</style>\n",
       "<table border=\"1\" class=\"dataframe\">\n",
       "  <thead>\n",
       "    <tr style=\"text-align: right;\">\n",
       "      <th></th>\n",
       "      <th>month</th>\n",
       "      <th>total_claim_amount</th>\n",
       "    </tr>\n",
       "  </thead>\n",
       "  <tbody>\n",
       "    <tr>\n",
       "      <th>0</th>\n",
       "      <td>January</td>\n",
       "      <td>2117142.93</td>\n",
       "    </tr>\n",
       "    <tr>\n",
       "      <th>1</th>\n",
       "      <td>February</td>\n",
       "      <td>1847824.48</td>\n",
       "    </tr>\n",
       "  </tbody>\n",
       "</table>\n",
       "</div>"
      ],
      "text/plain": [
       "      month  total_claim_amount\n",
       "0   January          2117142.93\n",
       "1  February          1847824.48"
      ]
     },
     "execution_count": 22,
     "metadata": {},
     "output_type": "execute_result"
    }
   ],
   "source": [
    "new_bymonth = new.groupby(['month']).agg({'total_claim_amount':sum})\n",
    "new_bymonth = new_bymonth.reindex(index=('January', 'February')).reset_index()\n",
    "new_bymonth"
   ]
  },
  {
   "cell_type": "markdown",
   "id": "9e01078f-dc20-40d3-b153-7393ffb2aeca",
   "metadata": {},
   "source": [
    "<br><h2>Can you do a monthly analysis given the output of the previous series? Why?<h2>"
   ]
  },
  {
   "cell_type": "markdown",
   "id": "b859e7bd-4465-4440-a1e5-f46a8ceabbf8",
   "metadata": {},
   "source": [
    "<br><h4>No, because the data size is too small (we only have the information of 2 months)<br><h4>"
   ]
  },
  {
   "cell_type": "markdown",
   "id": "30c371dc-7ccf-448f-a088-f92f46772de2",
   "metadata": {},
   "source": [
    "<h2><br>Define a function to remove the outliers of a numerical continuous column depending if a value is bigger or smaller than a given amount of standard deviations of the mean (thr=3).<h2><br>"
   ]
  },
  {
   "cell_type": "code",
   "execution_count": 23,
   "id": "bb4d66d3-e369-4a5e-814a-f8ae6aa24031",
   "metadata": {},
   "outputs": [],
   "source": [
    "def outliers_remover(df, thr=3, counter=36):\n",
    "    '''Function takes 3 inputs:\n",
    "    -df: a pandas DataFrame, no matter if it has categoricals.\n",
    "    -thr: threshold, the Stdev multiplier. Default = 3\n",
    "    -counter: the number of different values from which the numerical distribution\n",
    "    is considered continuous. Default = 36\n",
    "    \n",
    "    Returns a DataFrame with only continuous numerical columns for which the outliers\n",
    "    (according to thr * StDev) have been removed.\n",
    "    '''\n",
    "    print('Shape before function application: ',df.shape)\n",
    "    df = df.select_dtypes(np.number)\n",
    "    for col in df:\n",
    "        x = df[col].value_counts().count()\n",
    "        if x < counter:\n",
    "            df = df.drop([col], axis = 1)\n",
    "    to_remove = []\n",
    "    for col in df.columns:\n",
    "        for i in df[col]:\n",
    "            sd_dw = (np.mean(df[col])) - (thr*np.std(df[col]))\n",
    "            sd_up = np.mean(df[col]) + (thr*np.std(df[col]))\n",
    "            out = df[(df[col] < sd_dw)|(df[col] > sd_up)]\n",
    "            to_remove += list(out.index)\n",
    "    list(set(to_remove))\n",
    "    df = df.drop(to_remove)\n",
    "    df = df.reset_index(drop=True)\n",
    "    print('Shape after function application: ',df.shape)\n",
    "    return df"
   ]
  },
  {
   "cell_type": "markdown",
   "id": "fae9525c-c928-4720-b2b9-b97c69856bbd",
   "metadata": {},
   "source": [
    "<h2><br>Use the previous function to remove the outliers of continuous data and to generate a continuous_clean_df.<h2>"
   ]
  },
  {
   "cell_type": "code",
   "execution_count": 24,
   "id": "9e15e263-a6c4-41e0-9353-9144906beb2a",
   "metadata": {},
   "outputs": [
    {
     "name": "stdout",
     "output_type": "stream",
     "text": [
      "Shape before function application:  (9134, 22)\n",
      "Shape after function application:  (8670, 6)\n"
     ]
    }
   ],
   "source": [
    "continuous_cleaned_df = outliers_remover(customer_df)"
   ]
  },
  {
   "cell_type": "markdown",
   "id": "ecc4e8ec-c8e1-4ed5-8a1d-93974bdb2ec0",
   "metadata": {},
   "source": [
    "<h2><br>Concatenate the continuous_cleaned_df, discrete_df, categorical_df and the relevant column of time_df. As after removing outliers the continuous_cleaned dataframe will have less rows (when you concat the individual dataframes using using pd.concat()) the resulting dataframe will have NaN's because of the different sizes of each dataframe. Use pd.dropna() and .reset_index() to fix the final dataframe.<h2>"
   ]
  },
  {
   "cell_type": "code",
   "execution_count": 25,
   "id": "0b2b5952-bcc1-4596-8c35-e4b091e2f688",
   "metadata": {},
   "outputs": [],
   "source": [
    "def num_cont(df, counter=36):\n",
    "    df = df.select_dtypes(np.number)\n",
    "    for col in df:\n",
    "        x = df[col].value_counts().count()\n",
    "        if x < counter:\n",
    "            df = df.drop([col], axis = 1)\n",
    "    return df\n",
    "            \n",
    "def num_disc(df, counter=36):\n",
    "    df = df.select_dtypes(np.number)\n",
    "    for col in df:\n",
    "        x = df[col].value_counts().count()\n",
    "        if x > counter:\n",
    "            df = df.drop([col], axis = 1)\n",
    "    return df"
   ]
  },
  {
   "cell_type": "code",
   "execution_count": 26,
   "id": "e8b4d841-910e-414c-b419-2c6fb6cc89a8",
   "metadata": {},
   "outputs": [
    {
     "data": {
      "text/html": [
       "<div>\n",
       "<style scoped>\n",
       "    .dataframe tbody tr th:only-of-type {\n",
       "        vertical-align: middle;\n",
       "    }\n",
       "\n",
       "    .dataframe tbody tr th {\n",
       "        vertical-align: top;\n",
       "    }\n",
       "\n",
       "    .dataframe thead th {\n",
       "        text-align: right;\n",
       "    }\n",
       "</style>\n",
       "<table border=\"1\" class=\"dataframe\">\n",
       "  <thead>\n",
       "    <tr style=\"text-align: right;\">\n",
       "      <th></th>\n",
       "      <th>months_since_last_claim</th>\n",
       "      <th>number_of_open_complaints</th>\n",
       "      <th>number_of_policies</th>\n",
       "    </tr>\n",
       "  </thead>\n",
       "  <tbody>\n",
       "    <tr>\n",
       "      <th>0</th>\n",
       "      <td>32</td>\n",
       "      <td>0</td>\n",
       "      <td>1</td>\n",
       "    </tr>\n",
       "    <tr>\n",
       "      <th>1</th>\n",
       "      <td>13</td>\n",
       "      <td>0</td>\n",
       "      <td>8</td>\n",
       "    </tr>\n",
       "    <tr>\n",
       "      <th>2</th>\n",
       "      <td>18</td>\n",
       "      <td>0</td>\n",
       "      <td>2</td>\n",
       "    </tr>\n",
       "    <tr>\n",
       "      <th>3</th>\n",
       "      <td>18</td>\n",
       "      <td>0</td>\n",
       "      <td>7</td>\n",
       "    </tr>\n",
       "    <tr>\n",
       "      <th>4</th>\n",
       "      <td>12</td>\n",
       "      <td>0</td>\n",
       "      <td>1</td>\n",
       "    </tr>\n",
       "    <tr>\n",
       "      <th>...</th>\n",
       "      <td>...</td>\n",
       "      <td>...</td>\n",
       "      <td>...</td>\n",
       "    </tr>\n",
       "    <tr>\n",
       "      <th>9129</th>\n",
       "      <td>18</td>\n",
       "      <td>0</td>\n",
       "      <td>2</td>\n",
       "    </tr>\n",
       "    <tr>\n",
       "      <th>9130</th>\n",
       "      <td>14</td>\n",
       "      <td>0</td>\n",
       "      <td>1</td>\n",
       "    </tr>\n",
       "    <tr>\n",
       "      <th>9131</th>\n",
       "      <td>9</td>\n",
       "      <td>3</td>\n",
       "      <td>2</td>\n",
       "    </tr>\n",
       "    <tr>\n",
       "      <th>9132</th>\n",
       "      <td>34</td>\n",
       "      <td>0</td>\n",
       "      <td>3</td>\n",
       "    </tr>\n",
       "    <tr>\n",
       "      <th>9133</th>\n",
       "      <td>3</td>\n",
       "      <td>0</td>\n",
       "      <td>1</td>\n",
       "    </tr>\n",
       "  </tbody>\n",
       "</table>\n",
       "<p>9134 rows × 3 columns</p>\n",
       "</div>"
      ],
      "text/plain": [
       "      months_since_last_claim  number_of_open_complaints  number_of_policies\n",
       "0                          32                          0                   1\n",
       "1                          13                          0                   8\n",
       "2                          18                          0                   2\n",
       "3                          18                          0                   7\n",
       "4                          12                          0                   1\n",
       "...                       ...                        ...                 ...\n",
       "9129                       18                          0                   2\n",
       "9130                       14                          0                   1\n",
       "9131                        9                          3                   2\n",
       "9132                       34                          0                   3\n",
       "9133                        3                          0                   1\n",
       "\n",
       "[9134 rows x 3 columns]"
      ]
     },
     "execution_count": 26,
     "metadata": {},
     "output_type": "execute_result"
    }
   ],
   "source": [
    "discrete_df = num_disc(customer_df)\n",
    "discrete_df"
   ]
  },
  {
   "cell_type": "code",
   "execution_count": 27,
   "id": "f554ebf1-7d7f-4acc-a2c9-5b25f6579147",
   "metadata": {},
   "outputs": [
    {
     "data": {
      "text/html": [
       "<div>\n",
       "<style scoped>\n",
       "    .dataframe tbody tr th:only-of-type {\n",
       "        vertical-align: middle;\n",
       "    }\n",
       "\n",
       "    .dataframe tbody tr th {\n",
       "        vertical-align: top;\n",
       "    }\n",
       "\n",
       "    .dataframe thead th {\n",
       "        text-align: right;\n",
       "    }\n",
       "</style>\n",
       "<table border=\"1\" class=\"dataframe\">\n",
       "  <thead>\n",
       "    <tr style=\"text-align: right;\">\n",
       "      <th></th>\n",
       "      <th>state</th>\n",
       "      <th>response</th>\n",
       "      <th>coverage</th>\n",
       "      <th>education</th>\n",
       "      <th>employmentstatus</th>\n",
       "      <th>gender</th>\n",
       "      <th>location_code</th>\n",
       "      <th>marital_status</th>\n",
       "      <th>policy</th>\n",
       "      <th>renew_offer_type</th>\n",
       "      <th>sales_channel</th>\n",
       "      <th>vehicle_class</th>\n",
       "      <th>vehicle_size</th>\n",
       "    </tr>\n",
       "  </thead>\n",
       "  <tbody>\n",
       "    <tr>\n",
       "      <th>0</th>\n",
       "      <td>Washington</td>\n",
       "      <td>No</td>\n",
       "      <td>Basic</td>\n",
       "      <td>Bachelor</td>\n",
       "      <td>Employed</td>\n",
       "      <td>F</td>\n",
       "      <td>Suburban</td>\n",
       "      <td>Married</td>\n",
       "      <td>L3</td>\n",
       "      <td>Offer1</td>\n",
       "      <td>Agent</td>\n",
       "      <td>Two-Door Car</td>\n",
       "      <td>Medsize</td>\n",
       "    </tr>\n",
       "    <tr>\n",
       "      <th>1</th>\n",
       "      <td>Arizona</td>\n",
       "      <td>No</td>\n",
       "      <td>Extended</td>\n",
       "      <td>Bachelor</td>\n",
       "      <td>Unemployed</td>\n",
       "      <td>F</td>\n",
       "      <td>Suburban</td>\n",
       "      <td>Single</td>\n",
       "      <td>L3</td>\n",
       "      <td>Offer3</td>\n",
       "      <td>Agent</td>\n",
       "      <td>Four-Door Car</td>\n",
       "      <td>Medsize</td>\n",
       "    </tr>\n",
       "    <tr>\n",
       "      <th>2</th>\n",
       "      <td>Nevada</td>\n",
       "      <td>No</td>\n",
       "      <td>Premium</td>\n",
       "      <td>Bachelor</td>\n",
       "      <td>Employed</td>\n",
       "      <td>F</td>\n",
       "      <td>Suburban</td>\n",
       "      <td>Married</td>\n",
       "      <td>L3</td>\n",
       "      <td>Offer1</td>\n",
       "      <td>Agent</td>\n",
       "      <td>Two-Door Car</td>\n",
       "      <td>Medsize</td>\n",
       "    </tr>\n",
       "    <tr>\n",
       "      <th>3</th>\n",
       "      <td>California</td>\n",
       "      <td>No</td>\n",
       "      <td>Basic</td>\n",
       "      <td>Bachelor</td>\n",
       "      <td>Unemployed</td>\n",
       "      <td>M</td>\n",
       "      <td>Suburban</td>\n",
       "      <td>Married</td>\n",
       "      <td>L2</td>\n",
       "      <td>Offer1</td>\n",
       "      <td>Call Center</td>\n",
       "      <td>SUV</td>\n",
       "      <td>Medsize</td>\n",
       "    </tr>\n",
       "    <tr>\n",
       "      <th>4</th>\n",
       "      <td>Washington</td>\n",
       "      <td>No</td>\n",
       "      <td>Basic</td>\n",
       "      <td>Bachelor</td>\n",
       "      <td>Employed</td>\n",
       "      <td>M</td>\n",
       "      <td>Rural</td>\n",
       "      <td>Single</td>\n",
       "      <td>L1</td>\n",
       "      <td>Offer1</td>\n",
       "      <td>Agent</td>\n",
       "      <td>Four-Door Car</td>\n",
       "      <td>Medsize</td>\n",
       "    </tr>\n",
       "    <tr>\n",
       "      <th>...</th>\n",
       "      <td>...</td>\n",
       "      <td>...</td>\n",
       "      <td>...</td>\n",
       "      <td>...</td>\n",
       "      <td>...</td>\n",
       "      <td>...</td>\n",
       "      <td>...</td>\n",
       "      <td>...</td>\n",
       "      <td>...</td>\n",
       "      <td>...</td>\n",
       "      <td>...</td>\n",
       "      <td>...</td>\n",
       "      <td>...</td>\n",
       "    </tr>\n",
       "    <tr>\n",
       "      <th>9129</th>\n",
       "      <td>California</td>\n",
       "      <td>No</td>\n",
       "      <td>Basic</td>\n",
       "      <td>Bachelor</td>\n",
       "      <td>Employed</td>\n",
       "      <td>M</td>\n",
       "      <td>Urban</td>\n",
       "      <td>Married</td>\n",
       "      <td>L1</td>\n",
       "      <td>Offer2</td>\n",
       "      <td>Web</td>\n",
       "      <td>Four-Door Car</td>\n",
       "      <td>Medsize</td>\n",
       "    </tr>\n",
       "    <tr>\n",
       "      <th>9130</th>\n",
       "      <td>California</td>\n",
       "      <td>Yes</td>\n",
       "      <td>Extended</td>\n",
       "      <td>College</td>\n",
       "      <td>Employed</td>\n",
       "      <td>F</td>\n",
       "      <td>Suburban</td>\n",
       "      <td>Divorced</td>\n",
       "      <td>L3</td>\n",
       "      <td>Offer1</td>\n",
       "      <td>Branch</td>\n",
       "      <td>Four-Door Car</td>\n",
       "      <td>Medsize</td>\n",
       "    </tr>\n",
       "    <tr>\n",
       "      <th>9131</th>\n",
       "      <td>California</td>\n",
       "      <td>No</td>\n",
       "      <td>Extended</td>\n",
       "      <td>Bachelor</td>\n",
       "      <td>Unemployed</td>\n",
       "      <td>M</td>\n",
       "      <td>Suburban</td>\n",
       "      <td>Single</td>\n",
       "      <td>L2</td>\n",
       "      <td>Offer1</td>\n",
       "      <td>Branch</td>\n",
       "      <td>Four-Door Car</td>\n",
       "      <td>Medsize</td>\n",
       "    </tr>\n",
       "    <tr>\n",
       "      <th>9132</th>\n",
       "      <td>California</td>\n",
       "      <td>No</td>\n",
       "      <td>Extended</td>\n",
       "      <td>College</td>\n",
       "      <td>Employed</td>\n",
       "      <td>M</td>\n",
       "      <td>Suburban</td>\n",
       "      <td>Married</td>\n",
       "      <td>L2</td>\n",
       "      <td>Offer3</td>\n",
       "      <td>Branch</td>\n",
       "      <td>Four-Door Car</td>\n",
       "      <td>Large</td>\n",
       "    </tr>\n",
       "    <tr>\n",
       "      <th>9133</th>\n",
       "      <td>California</td>\n",
       "      <td>No</td>\n",
       "      <td>Extended</td>\n",
       "      <td>College</td>\n",
       "      <td>Unemployed</td>\n",
       "      <td>M</td>\n",
       "      <td>Suburban</td>\n",
       "      <td>Single</td>\n",
       "      <td>L3</td>\n",
       "      <td>Offer4</td>\n",
       "      <td>Call Center</td>\n",
       "      <td>Two-Door Car</td>\n",
       "      <td>Medsize</td>\n",
       "    </tr>\n",
       "  </tbody>\n",
       "</table>\n",
       "<p>9134 rows × 13 columns</p>\n",
       "</div>"
      ],
      "text/plain": [
       "           state response  coverage education employmentstatus gender  \\\n",
       "0     Washington       No     Basic  Bachelor         Employed      F   \n",
       "1        Arizona       No  Extended  Bachelor       Unemployed      F   \n",
       "2         Nevada       No   Premium  Bachelor         Employed      F   \n",
       "3     California       No     Basic  Bachelor       Unemployed      M   \n",
       "4     Washington       No     Basic  Bachelor         Employed      M   \n",
       "...          ...      ...       ...       ...              ...    ...   \n",
       "9129  California       No     Basic  Bachelor         Employed      M   \n",
       "9130  California      Yes  Extended   College         Employed      F   \n",
       "9131  California       No  Extended  Bachelor       Unemployed      M   \n",
       "9132  California       No  Extended   College         Employed      M   \n",
       "9133  California       No  Extended   College       Unemployed      M   \n",
       "\n",
       "     location_code marital_status policy renew_offer_type sales_channel  \\\n",
       "0         Suburban        Married     L3           Offer1         Agent   \n",
       "1         Suburban         Single     L3           Offer3         Agent   \n",
       "2         Suburban        Married     L3           Offer1         Agent   \n",
       "3         Suburban        Married     L2           Offer1   Call Center   \n",
       "4            Rural         Single     L1           Offer1         Agent   \n",
       "...            ...            ...    ...              ...           ...   \n",
       "9129         Urban        Married     L1           Offer2           Web   \n",
       "9130      Suburban       Divorced     L3           Offer1        Branch   \n",
       "9131      Suburban         Single     L2           Offer1        Branch   \n",
       "9132      Suburban        Married     L2           Offer3        Branch   \n",
       "9133      Suburban         Single     L3           Offer4   Call Center   \n",
       "\n",
       "      vehicle_class vehicle_size  \n",
       "0      Two-Door Car      Medsize  \n",
       "1     Four-Door Car      Medsize  \n",
       "2      Two-Door Car      Medsize  \n",
       "3               SUV      Medsize  \n",
       "4     Four-Door Car      Medsize  \n",
       "...             ...          ...  \n",
       "9129  Four-Door Car      Medsize  \n",
       "9130  Four-Door Car      Medsize  \n",
       "9131  Four-Door Car      Medsize  \n",
       "9132  Four-Door Car        Large  \n",
       "9133   Two-Door Car      Medsize  \n",
       "\n",
       "[9134 rows x 13 columns]"
      ]
     },
     "execution_count": 27,
     "metadata": {},
     "output_type": "execute_result"
    }
   ],
   "source": [
    "categorical_df = customer_df.select_dtypes(object)\n",
    "categorical_df"
   ]
  },
  {
   "cell_type": "code",
   "execution_count": 28,
   "id": "cce6bbed-964a-4641-a889-26e778d6ee7d",
   "metadata": {},
   "outputs": [],
   "source": [
    "time_df = new['day_name']"
   ]
  },
  {
   "cell_type": "code",
   "execution_count": 29,
   "id": "dde36fab-0302-4924-83f9-bf0933909ff0",
   "metadata": {},
   "outputs": [
    {
     "data": {
      "text/html": [
       "<div>\n",
       "<style scoped>\n",
       "    .dataframe tbody tr th:only-of-type {\n",
       "        vertical-align: middle;\n",
       "    }\n",
       "\n",
       "    .dataframe tbody tr th {\n",
       "        vertical-align: top;\n",
       "    }\n",
       "\n",
       "    .dataframe thead th {\n",
       "        text-align: right;\n",
       "    }\n",
       "</style>\n",
       "<table border=\"1\" class=\"dataframe\">\n",
       "  <thead>\n",
       "    <tr style=\"text-align: right;\">\n",
       "      <th></th>\n",
       "      <th>customer_lifetime_value</th>\n",
       "      <th>income</th>\n",
       "      <th>monthly_premium_auto</th>\n",
       "      <th>months_since_last_claim</th>\n",
       "      <th>months_since_policy_inception</th>\n",
       "      <th>total_claim_amount</th>\n",
       "      <th>months_since_last_claim</th>\n",
       "      <th>number_of_open_complaints</th>\n",
       "      <th>number_of_policies</th>\n",
       "      <th>state</th>\n",
       "      <th>...</th>\n",
       "      <th>employmentstatus</th>\n",
       "      <th>gender</th>\n",
       "      <th>location_code</th>\n",
       "      <th>marital_status</th>\n",
       "      <th>policy</th>\n",
       "      <th>renew_offer_type</th>\n",
       "      <th>sales_channel</th>\n",
       "      <th>vehicle_class</th>\n",
       "      <th>vehicle_size</th>\n",
       "      <th>day_name</th>\n",
       "    </tr>\n",
       "  </thead>\n",
       "  <tbody>\n",
       "    <tr>\n",
       "      <th>0</th>\n",
       "      <td>2763.519279</td>\n",
       "      <td>56274.0</td>\n",
       "      <td>69.0</td>\n",
       "      <td>32.0</td>\n",
       "      <td>5.0</td>\n",
       "      <td>384.811147</td>\n",
       "      <td>32</td>\n",
       "      <td>0</td>\n",
       "      <td>1</td>\n",
       "      <td>Washington</td>\n",
       "      <td>...</td>\n",
       "      <td>Employed</td>\n",
       "      <td>F</td>\n",
       "      <td>Suburban</td>\n",
       "      <td>Married</td>\n",
       "      <td>L3</td>\n",
       "      <td>Offer1</td>\n",
       "      <td>Agent</td>\n",
       "      <td>Two-Door Car</td>\n",
       "      <td>Medsize</td>\n",
       "      <td>Thursday</td>\n",
       "    </tr>\n",
       "    <tr>\n",
       "      <th>1</th>\n",
       "      <td>6979.535903</td>\n",
       "      <td>0.0</td>\n",
       "      <td>94.0</td>\n",
       "      <td>13.0</td>\n",
       "      <td>42.0</td>\n",
       "      <td>1131.464935</td>\n",
       "      <td>13</td>\n",
       "      <td>0</td>\n",
       "      <td>8</td>\n",
       "      <td>Arizona</td>\n",
       "      <td>...</td>\n",
       "      <td>Unemployed</td>\n",
       "      <td>F</td>\n",
       "      <td>Suburban</td>\n",
       "      <td>Single</td>\n",
       "      <td>L3</td>\n",
       "      <td>Offer3</td>\n",
       "      <td>Agent</td>\n",
       "      <td>Four-Door Car</td>\n",
       "      <td>Medsize</td>\n",
       "      <td>Monday</td>\n",
       "    </tr>\n",
       "    <tr>\n",
       "      <th>2</th>\n",
       "      <td>12887.431650</td>\n",
       "      <td>48767.0</td>\n",
       "      <td>108.0</td>\n",
       "      <td>18.0</td>\n",
       "      <td>38.0</td>\n",
       "      <td>566.472247</td>\n",
       "      <td>18</td>\n",
       "      <td>0</td>\n",
       "      <td>2</td>\n",
       "      <td>Nevada</td>\n",
       "      <td>...</td>\n",
       "      <td>Employed</td>\n",
       "      <td>F</td>\n",
       "      <td>Suburban</td>\n",
       "      <td>Married</td>\n",
       "      <td>L3</td>\n",
       "      <td>Offer1</td>\n",
       "      <td>Agent</td>\n",
       "      <td>Two-Door Car</td>\n",
       "      <td>Medsize</td>\n",
       "      <td>Saturday</td>\n",
       "    </tr>\n",
       "    <tr>\n",
       "      <th>3</th>\n",
       "      <td>7645.861827</td>\n",
       "      <td>0.0</td>\n",
       "      <td>106.0</td>\n",
       "      <td>18.0</td>\n",
       "      <td>65.0</td>\n",
       "      <td>529.881344</td>\n",
       "      <td>18</td>\n",
       "      <td>0</td>\n",
       "      <td>7</td>\n",
       "      <td>California</td>\n",
       "      <td>...</td>\n",
       "      <td>Unemployed</td>\n",
       "      <td>M</td>\n",
       "      <td>Suburban</td>\n",
       "      <td>Married</td>\n",
       "      <td>L2</td>\n",
       "      <td>Offer1</td>\n",
       "      <td>Call Center</td>\n",
       "      <td>SUV</td>\n",
       "      <td>Medsize</td>\n",
       "      <td>Thursday</td>\n",
       "    </tr>\n",
       "    <tr>\n",
       "      <th>4</th>\n",
       "      <td>2813.692575</td>\n",
       "      <td>43836.0</td>\n",
       "      <td>73.0</td>\n",
       "      <td>12.0</td>\n",
       "      <td>44.0</td>\n",
       "      <td>138.130879</td>\n",
       "      <td>12</td>\n",
       "      <td>0</td>\n",
       "      <td>1</td>\n",
       "      <td>Washington</td>\n",
       "      <td>...</td>\n",
       "      <td>Employed</td>\n",
       "      <td>M</td>\n",
       "      <td>Rural</td>\n",
       "      <td>Single</td>\n",
       "      <td>L1</td>\n",
       "      <td>Offer1</td>\n",
       "      <td>Agent</td>\n",
       "      <td>Four-Door Car</td>\n",
       "      <td>Medsize</td>\n",
       "      <td>Thursday</td>\n",
       "    </tr>\n",
       "    <tr>\n",
       "      <th>...</th>\n",
       "      <td>...</td>\n",
       "      <td>...</td>\n",
       "      <td>...</td>\n",
       "      <td>...</td>\n",
       "      <td>...</td>\n",
       "      <td>...</td>\n",
       "      <td>...</td>\n",
       "      <td>...</td>\n",
       "      <td>...</td>\n",
       "      <td>...</td>\n",
       "      <td>...</td>\n",
       "      <td>...</td>\n",
       "      <td>...</td>\n",
       "      <td>...</td>\n",
       "      <td>...</td>\n",
       "      <td>...</td>\n",
       "      <td>...</td>\n",
       "      <td>...</td>\n",
       "      <td>...</td>\n",
       "      <td>...</td>\n",
       "      <td>...</td>\n",
       "    </tr>\n",
       "    <tr>\n",
       "      <th>8665</th>\n",
       "      <td>23405.987980</td>\n",
       "      <td>71941.0</td>\n",
       "      <td>73.0</td>\n",
       "      <td>18.0</td>\n",
       "      <td>89.0</td>\n",
       "      <td>198.234764</td>\n",
       "      <td>21</td>\n",
       "      <td>1</td>\n",
       "      <td>6</td>\n",
       "      <td>California</td>\n",
       "      <td>...</td>\n",
       "      <td>Medical Leave</td>\n",
       "      <td>M</td>\n",
       "      <td>Suburban</td>\n",
       "      <td>Married</td>\n",
       "      <td>L2</td>\n",
       "      <td>Offer1</td>\n",
       "      <td>Web</td>\n",
       "      <td>Four-Door Car</td>\n",
       "      <td>Medsize</td>\n",
       "      <td>Friday</td>\n",
       "    </tr>\n",
       "    <tr>\n",
       "      <th>8666</th>\n",
       "      <td>3096.511217</td>\n",
       "      <td>21604.0</td>\n",
       "      <td>79.0</td>\n",
       "      <td>14.0</td>\n",
       "      <td>28.0</td>\n",
       "      <td>379.200000</td>\n",
       "      <td>25</td>\n",
       "      <td>0</td>\n",
       "      <td>1</td>\n",
       "      <td>California</td>\n",
       "      <td>...</td>\n",
       "      <td>Medical Leave</td>\n",
       "      <td>F</td>\n",
       "      <td>Rural</td>\n",
       "      <td>Married</td>\n",
       "      <td>L2</td>\n",
       "      <td>Offer2</td>\n",
       "      <td>Branch</td>\n",
       "      <td>Four-Door Car</td>\n",
       "      <td>Medsize</td>\n",
       "      <td>Wednesday</td>\n",
       "    </tr>\n",
       "    <tr>\n",
       "      <th>8667</th>\n",
       "      <td>8163.890428</td>\n",
       "      <td>0.0</td>\n",
       "      <td>85.0</td>\n",
       "      <td>9.0</td>\n",
       "      <td>37.0</td>\n",
       "      <td>790.784983</td>\n",
       "      <td>23</td>\n",
       "      <td>0</td>\n",
       "      <td>1</td>\n",
       "      <td>California</td>\n",
       "      <td>...</td>\n",
       "      <td>Unemployed</td>\n",
       "      <td>M</td>\n",
       "      <td>Suburban</td>\n",
       "      <td>Single</td>\n",
       "      <td>L3</td>\n",
       "      <td>Offer2</td>\n",
       "      <td>Call Center</td>\n",
       "      <td>Two-Door Car</td>\n",
       "      <td>Small</td>\n",
       "      <td>Friday</td>\n",
       "    </tr>\n",
       "    <tr>\n",
       "      <th>8668</th>\n",
       "      <td>7524.442436</td>\n",
       "      <td>21941.0</td>\n",
       "      <td>96.0</td>\n",
       "      <td>34.0</td>\n",
       "      <td>3.0</td>\n",
       "      <td>691.200000</td>\n",
       "      <td>11</td>\n",
       "      <td>0</td>\n",
       "      <td>6</td>\n",
       "      <td>California</td>\n",
       "      <td>...</td>\n",
       "      <td>Unemployed</td>\n",
       "      <td>M</td>\n",
       "      <td>Suburban</td>\n",
       "      <td>Single</td>\n",
       "      <td>L2</td>\n",
       "      <td>Offer3</td>\n",
       "      <td>Agent</td>\n",
       "      <td>Four-Door Car</td>\n",
       "      <td>Medsize</td>\n",
       "      <td>Wednesday</td>\n",
       "    </tr>\n",
       "    <tr>\n",
       "      <th>8669</th>\n",
       "      <td>2611.836866</td>\n",
       "      <td>0.0</td>\n",
       "      <td>77.0</td>\n",
       "      <td>3.0</td>\n",
       "      <td>90.0</td>\n",
       "      <td>369.600000</td>\n",
       "      <td>17</td>\n",
       "      <td>0</td>\n",
       "      <td>2</td>\n",
       "      <td>California</td>\n",
       "      <td>...</td>\n",
       "      <td>Employed</td>\n",
       "      <td>F</td>\n",
       "      <td>Urban</td>\n",
       "      <td>Married</td>\n",
       "      <td>L2</td>\n",
       "      <td>Offer2</td>\n",
       "      <td>Call Center</td>\n",
       "      <td>Four-Door Car</td>\n",
       "      <td>Medsize</td>\n",
       "      <td>Saturday</td>\n",
       "    </tr>\n",
       "  </tbody>\n",
       "</table>\n",
       "<p>8670 rows × 23 columns</p>\n",
       "</div>"
      ],
      "text/plain": [
       "      customer_lifetime_value   income  monthly_premium_auto  \\\n",
       "0                 2763.519279  56274.0                  69.0   \n",
       "1                 6979.535903      0.0                  94.0   \n",
       "2                12887.431650  48767.0                 108.0   \n",
       "3                 7645.861827      0.0                 106.0   \n",
       "4                 2813.692575  43836.0                  73.0   \n",
       "...                       ...      ...                   ...   \n",
       "8665             23405.987980  71941.0                  73.0   \n",
       "8666              3096.511217  21604.0                  79.0   \n",
       "8667              8163.890428      0.0                  85.0   \n",
       "8668              7524.442436  21941.0                  96.0   \n",
       "8669              2611.836866      0.0                  77.0   \n",
       "\n",
       "      months_since_last_claim  months_since_policy_inception  \\\n",
       "0                        32.0                            5.0   \n",
       "1                        13.0                           42.0   \n",
       "2                        18.0                           38.0   \n",
       "3                        18.0                           65.0   \n",
       "4                        12.0                           44.0   \n",
       "...                       ...                            ...   \n",
       "8665                     18.0                           89.0   \n",
       "8666                     14.0                           28.0   \n",
       "8667                      9.0                           37.0   \n",
       "8668                     34.0                            3.0   \n",
       "8669                      3.0                           90.0   \n",
       "\n",
       "      total_claim_amount  months_since_last_claim  number_of_open_complaints  \\\n",
       "0             384.811147                       32                          0   \n",
       "1            1131.464935                       13                          0   \n",
       "2             566.472247                       18                          0   \n",
       "3             529.881344                       18                          0   \n",
       "4             138.130879                       12                          0   \n",
       "...                  ...                      ...                        ...   \n",
       "8665          198.234764                       21                          1   \n",
       "8666          379.200000                       25                          0   \n",
       "8667          790.784983                       23                          0   \n",
       "8668          691.200000                       11                          0   \n",
       "8669          369.600000                       17                          0   \n",
       "\n",
       "      number_of_policies       state  ... employmentstatus gender  \\\n",
       "0                      1  Washington  ...         Employed      F   \n",
       "1                      8     Arizona  ...       Unemployed      F   \n",
       "2                      2      Nevada  ...         Employed      F   \n",
       "3                      7  California  ...       Unemployed      M   \n",
       "4                      1  Washington  ...         Employed      M   \n",
       "...                  ...         ...  ...              ...    ...   \n",
       "8665                   6  California  ...    Medical Leave      M   \n",
       "8666                   1  California  ...    Medical Leave      F   \n",
       "8667                   1  California  ...       Unemployed      M   \n",
       "8668                   6  California  ...       Unemployed      M   \n",
       "8669                   2  California  ...         Employed      F   \n",
       "\n",
       "     location_code marital_status policy renew_offer_type sales_channel  \\\n",
       "0         Suburban        Married     L3           Offer1         Agent   \n",
       "1         Suburban         Single     L3           Offer3         Agent   \n",
       "2         Suburban        Married     L3           Offer1         Agent   \n",
       "3         Suburban        Married     L2           Offer1   Call Center   \n",
       "4            Rural         Single     L1           Offer1         Agent   \n",
       "...            ...            ...    ...              ...           ...   \n",
       "8665      Suburban        Married     L2           Offer1           Web   \n",
       "8666         Rural        Married     L2           Offer2        Branch   \n",
       "8667      Suburban         Single     L3           Offer2   Call Center   \n",
       "8668      Suburban         Single     L2           Offer3         Agent   \n",
       "8669         Urban        Married     L2           Offer2   Call Center   \n",
       "\n",
       "      vehicle_class vehicle_size   day_name  \n",
       "0      Two-Door Car      Medsize   Thursday  \n",
       "1     Four-Door Car      Medsize     Monday  \n",
       "2      Two-Door Car      Medsize   Saturday  \n",
       "3               SUV      Medsize   Thursday  \n",
       "4     Four-Door Car      Medsize   Thursday  \n",
       "...             ...          ...        ...  \n",
       "8665  Four-Door Car      Medsize     Friday  \n",
       "8666  Four-Door Car      Medsize  Wednesday  \n",
       "8667   Two-Door Car        Small     Friday  \n",
       "8668  Four-Door Car      Medsize  Wednesday  \n",
       "8669  Four-Door Car      Medsize   Saturday  \n",
       "\n",
       "[8670 rows x 23 columns]"
      ]
     },
     "metadata": {},
     "output_type": "display_data"
    },
    {
     "data": {
      "text/plain": [
       "(8670, 23)"
      ]
     },
     "metadata": {},
     "output_type": "display_data"
    }
   ],
   "source": [
    "final = pd.concat([continuous_cleaned_df, discrete_df, categorical_df, time_df], axis = 1)\n",
    "final = final.dropna().reset_index(drop=True)\n",
    "display(final)\n",
    "display(final.shape)"
   ]
  },
  {
   "cell_type": "markdown",
   "id": "8f2c52d0-4335-49c0-bd9b-a4266081a6f3",
   "metadata": {},
   "source": [
    "<h2><br>Reorder the columns of the dataframe to place 'total_claim_amount' as the last column.<h2>"
   ]
  },
  {
   "cell_type": "code",
   "execution_count": 30,
   "id": "3c872efd-d3ef-4584-a424-1b792e595afd",
   "metadata": {},
   "outputs": [],
   "source": [
    "final_reodered = final.copy()\n",
    "final = final.drop(['total_claim_amount'], axis = 1)\n",
    "final['total_claim_amount'] = final_reodered['total_claim_amount']"
   ]
  },
  {
   "cell_type": "code",
   "execution_count": 31,
   "id": "e0c5bed0-f8be-4508-bec0-cc6fd1d3e9dc",
   "metadata": {},
   "outputs": [
    {
     "data": {
      "text/plain": [
       "Index(['customer_lifetime_value', 'income', 'monthly_premium_auto',\n",
       "       'months_since_last_claim', 'months_since_policy_inception',\n",
       "       'months_since_last_claim', 'number_of_open_complaints',\n",
       "       'number_of_policies', 'state', 'response', 'coverage', 'education',\n",
       "       'employmentstatus', 'gender', 'location_code', 'marital_status',\n",
       "       'policy', 'renew_offer_type', 'sales_channel', 'vehicle_class',\n",
       "       'vehicle_size', 'day_name', 'total_claim_amount'],\n",
       "      dtype='object')"
      ]
     },
     "execution_count": 31,
     "metadata": {},
     "output_type": "execute_result"
    }
   ],
   "source": [
    "final.columns"
   ]
  },
  {
   "cell_type": "markdown",
   "id": "ac9d18e1-6c18-4619-9ae5-fe3c010fb825",
   "metadata": {},
   "source": [
    "<h2><br>Turn the response column values into (Yes=1/No=0).<h2>"
   ]
  },
  {
   "cell_type": "code",
   "execution_count": 32,
   "id": "7635030d-0e4f-4f4e-bcb2-e4f8360788bf",
   "metadata": {},
   "outputs": [
    {
     "data": {
      "text/html": [
       "<div>\n",
       "<style scoped>\n",
       "    .dataframe tbody tr th:only-of-type {\n",
       "        vertical-align: middle;\n",
       "    }\n",
       "\n",
       "    .dataframe tbody tr th {\n",
       "        vertical-align: top;\n",
       "    }\n",
       "\n",
       "    .dataframe thead th {\n",
       "        text-align: right;\n",
       "    }\n",
       "</style>\n",
       "<table border=\"1\" class=\"dataframe\">\n",
       "  <thead>\n",
       "    <tr style=\"text-align: right;\">\n",
       "      <th></th>\n",
       "      <th>customer_lifetime_value</th>\n",
       "      <th>income</th>\n",
       "      <th>monthly_premium_auto</th>\n",
       "      <th>months_since_last_claim</th>\n",
       "      <th>months_since_policy_inception</th>\n",
       "      <th>months_since_last_claim</th>\n",
       "      <th>number_of_open_complaints</th>\n",
       "      <th>number_of_policies</th>\n",
       "      <th>state</th>\n",
       "      <th>response</th>\n",
       "      <th>...</th>\n",
       "      <th>gender</th>\n",
       "      <th>location_code</th>\n",
       "      <th>marital_status</th>\n",
       "      <th>policy</th>\n",
       "      <th>renew_offer_type</th>\n",
       "      <th>sales_channel</th>\n",
       "      <th>vehicle_class</th>\n",
       "      <th>vehicle_size</th>\n",
       "      <th>day_name</th>\n",
       "      <th>total_claim_amount</th>\n",
       "    </tr>\n",
       "  </thead>\n",
       "  <tbody>\n",
       "    <tr>\n",
       "      <th>0</th>\n",
       "      <td>2763.519279</td>\n",
       "      <td>56274.0</td>\n",
       "      <td>69.0</td>\n",
       "      <td>32.0</td>\n",
       "      <td>5.0</td>\n",
       "      <td>32</td>\n",
       "      <td>0</td>\n",
       "      <td>1</td>\n",
       "      <td>Washington</td>\n",
       "      <td>1</td>\n",
       "      <td>...</td>\n",
       "      <td>F</td>\n",
       "      <td>Suburban</td>\n",
       "      <td>Married</td>\n",
       "      <td>L3</td>\n",
       "      <td>Offer1</td>\n",
       "      <td>Agent</td>\n",
       "      <td>Two-Door Car</td>\n",
       "      <td>Medsize</td>\n",
       "      <td>Thursday</td>\n",
       "      <td>384.811147</td>\n",
       "    </tr>\n",
       "    <tr>\n",
       "      <th>1</th>\n",
       "      <td>6979.535903</td>\n",
       "      <td>0.0</td>\n",
       "      <td>94.0</td>\n",
       "      <td>13.0</td>\n",
       "      <td>42.0</td>\n",
       "      <td>13</td>\n",
       "      <td>0</td>\n",
       "      <td>8</td>\n",
       "      <td>Arizona</td>\n",
       "      <td>1</td>\n",
       "      <td>...</td>\n",
       "      <td>F</td>\n",
       "      <td>Suburban</td>\n",
       "      <td>Single</td>\n",
       "      <td>L3</td>\n",
       "      <td>Offer3</td>\n",
       "      <td>Agent</td>\n",
       "      <td>Four-Door Car</td>\n",
       "      <td>Medsize</td>\n",
       "      <td>Monday</td>\n",
       "      <td>1131.464935</td>\n",
       "    </tr>\n",
       "    <tr>\n",
       "      <th>2</th>\n",
       "      <td>12887.431650</td>\n",
       "      <td>48767.0</td>\n",
       "      <td>108.0</td>\n",
       "      <td>18.0</td>\n",
       "      <td>38.0</td>\n",
       "      <td>18</td>\n",
       "      <td>0</td>\n",
       "      <td>2</td>\n",
       "      <td>Nevada</td>\n",
       "      <td>1</td>\n",
       "      <td>...</td>\n",
       "      <td>F</td>\n",
       "      <td>Suburban</td>\n",
       "      <td>Married</td>\n",
       "      <td>L3</td>\n",
       "      <td>Offer1</td>\n",
       "      <td>Agent</td>\n",
       "      <td>Two-Door Car</td>\n",
       "      <td>Medsize</td>\n",
       "      <td>Saturday</td>\n",
       "      <td>566.472247</td>\n",
       "    </tr>\n",
       "    <tr>\n",
       "      <th>3</th>\n",
       "      <td>7645.861827</td>\n",
       "      <td>0.0</td>\n",
       "      <td>106.0</td>\n",
       "      <td>18.0</td>\n",
       "      <td>65.0</td>\n",
       "      <td>18</td>\n",
       "      <td>0</td>\n",
       "      <td>7</td>\n",
       "      <td>California</td>\n",
       "      <td>1</td>\n",
       "      <td>...</td>\n",
       "      <td>M</td>\n",
       "      <td>Suburban</td>\n",
       "      <td>Married</td>\n",
       "      <td>L2</td>\n",
       "      <td>Offer1</td>\n",
       "      <td>Call Center</td>\n",
       "      <td>SUV</td>\n",
       "      <td>Medsize</td>\n",
       "      <td>Thursday</td>\n",
       "      <td>529.881344</td>\n",
       "    </tr>\n",
       "    <tr>\n",
       "      <th>4</th>\n",
       "      <td>2813.692575</td>\n",
       "      <td>43836.0</td>\n",
       "      <td>73.0</td>\n",
       "      <td>12.0</td>\n",
       "      <td>44.0</td>\n",
       "      <td>12</td>\n",
       "      <td>0</td>\n",
       "      <td>1</td>\n",
       "      <td>Washington</td>\n",
       "      <td>1</td>\n",
       "      <td>...</td>\n",
       "      <td>M</td>\n",
       "      <td>Rural</td>\n",
       "      <td>Single</td>\n",
       "      <td>L1</td>\n",
       "      <td>Offer1</td>\n",
       "      <td>Agent</td>\n",
       "      <td>Four-Door Car</td>\n",
       "      <td>Medsize</td>\n",
       "      <td>Thursday</td>\n",
       "      <td>138.130879</td>\n",
       "    </tr>\n",
       "  </tbody>\n",
       "</table>\n",
       "<p>5 rows × 23 columns</p>\n",
       "</div>"
      ],
      "text/plain": [
       "   customer_lifetime_value   income  monthly_premium_auto  \\\n",
       "0              2763.519279  56274.0                  69.0   \n",
       "1              6979.535903      0.0                  94.0   \n",
       "2             12887.431650  48767.0                 108.0   \n",
       "3              7645.861827      0.0                 106.0   \n",
       "4              2813.692575  43836.0                  73.0   \n",
       "\n",
       "   months_since_last_claim  months_since_policy_inception  \\\n",
       "0                     32.0                            5.0   \n",
       "1                     13.0                           42.0   \n",
       "2                     18.0                           38.0   \n",
       "3                     18.0                           65.0   \n",
       "4                     12.0                           44.0   \n",
       "\n",
       "   months_since_last_claim  number_of_open_complaints  number_of_policies  \\\n",
       "0                       32                          0                   1   \n",
       "1                       13                          0                   8   \n",
       "2                       18                          0                   2   \n",
       "3                       18                          0                   7   \n",
       "4                       12                          0                   1   \n",
       "\n",
       "        state  response  ... gender location_code marital_status policy  \\\n",
       "0  Washington         1  ...      F      Suburban        Married     L3   \n",
       "1     Arizona         1  ...      F      Suburban         Single     L3   \n",
       "2      Nevada         1  ...      F      Suburban        Married     L3   \n",
       "3  California         1  ...      M      Suburban        Married     L2   \n",
       "4  Washington         1  ...      M         Rural         Single     L1   \n",
       "\n",
       "  renew_offer_type sales_channel  vehicle_class vehicle_size  day_name  \\\n",
       "0           Offer1         Agent   Two-Door Car      Medsize  Thursday   \n",
       "1           Offer3         Agent  Four-Door Car      Medsize    Monday   \n",
       "2           Offer1         Agent   Two-Door Car      Medsize  Saturday   \n",
       "3           Offer1   Call Center            SUV      Medsize  Thursday   \n",
       "4           Offer1         Agent  Four-Door Car      Medsize  Thursday   \n",
       "\n",
       "  total_claim_amount  \n",
       "0         384.811147  \n",
       "1        1131.464935  \n",
       "2         566.472247  \n",
       "3         529.881344  \n",
       "4         138.130879  \n",
       "\n",
       "[5 rows x 23 columns]"
      ]
     },
     "execution_count": 32,
     "metadata": {},
     "output_type": "execute_result"
    }
   ],
   "source": [
    "final['response'] = final['response'].replace(to_replace=('Yes', 'No'), value = (0,1))\n",
    "final.head()"
   ]
  },
  {
   "cell_type": "markdown",
   "id": "e0ff439e-3a9d-473b-bda1-5cb1292b0fdf",
   "metadata": {},
   "source": [
    "<h2><br>Reduce the class imbalance in education by grouping together [\"Master\",\"Doctor\"] into \"Graduate\" while keeping the other possible values as they are. In this way, you will reduce a bit the class imbalance at the price of loosing level of detail.<h2>"
   ]
  },
  {
   "cell_type": "code",
   "execution_count": 33,
   "id": "02fc374d-8bfb-41fa-b8e7-5d855d03e64e",
   "metadata": {},
   "outputs": [
    {
     "data": {
      "text/plain": [
       "Bachelor                2611\n",
       "College                 2541\n",
       "High School or Below    2502\n",
       "Master                   688\n",
       "Doctor                   328\n",
       "Name: education, dtype: int64"
      ]
     },
     "execution_count": 33,
     "metadata": {},
     "output_type": "execute_result"
    }
   ],
   "source": [
    "final['education'].value_counts()"
   ]
  },
  {
   "cell_type": "code",
   "execution_count": 34,
   "id": "7379383b-236d-430e-a18f-ecfee1395988",
   "metadata": {},
   "outputs": [],
   "source": [
    "final['education'] = final['education'].replace(to_replace= ('Master', 'Doctor'), value = 'Graduate')"
   ]
  },
  {
   "cell_type": "code",
   "execution_count": 35,
   "id": "c7076666-6963-47ab-aae1-edbc56a7dab5",
   "metadata": {},
   "outputs": [
    {
     "data": {
      "text/plain": [
       "Bachelor                2611\n",
       "College                 2541\n",
       "High School or Below    2502\n",
       "Graduate                1016\n",
       "Name: education, dtype: int64"
      ]
     },
     "execution_count": 35,
     "metadata": {},
     "output_type": "execute_result"
    }
   ],
   "source": [
    "final['education'].value_counts()"
   ]
  },
  {
   "cell_type": "markdown",
   "id": "903cbcba-073a-4723-9f42-6a00912cbbe7",
   "metadata": {},
   "source": [
    "<h2><br>Reduce the class imbalance of employmentstatus grouping together [\"Medical Leave\", \"Disabled\", \"Retired\"] into \"Inactive\" while keeping the other possible values as they are. In this way, you will reduce a bit the class imbalance at the price of loosing level of detail.<h2>"
   ]
  },
  {
   "cell_type": "code",
   "execution_count": 36,
   "id": "2745b613-f572-47d5-b391-02939d23a688",
   "metadata": {},
   "outputs": [
    {
     "data": {
      "text/plain": [
       "Employed         5421\n",
       "Unemployed       2185\n",
       "Medical Leave     414\n",
       "Disabled          381\n",
       "Retired           269\n",
       "Name: employmentstatus, dtype: int64"
      ]
     },
     "execution_count": 36,
     "metadata": {},
     "output_type": "execute_result"
    }
   ],
   "source": [
    "final['employmentstatus'].value_counts()"
   ]
  },
  {
   "cell_type": "code",
   "execution_count": 37,
   "id": "d3a7b060-85a8-4dc9-8d2f-6327e38020ab",
   "metadata": {},
   "outputs": [],
   "source": [
    "final['employmentstatus'] = final['employmentstatus'].replace(to_replace=(\"Medical Leave\", \"Disabled\", \"Retired\"), value = 'Inactive')"
   ]
  },
  {
   "cell_type": "code",
   "execution_count": 38,
   "id": "054f6e2a-e5ef-4283-bbfa-5a6c098a4edb",
   "metadata": {},
   "outputs": [
    {
     "data": {
      "text/plain": [
       "Employed      5421\n",
       "Unemployed    2185\n",
       "Inactive      1064\n",
       "Name: employmentstatus, dtype: int64"
      ]
     },
     "execution_count": 38,
     "metadata": {},
     "output_type": "execute_result"
    }
   ],
   "source": [
    "final['employmentstatus'].value_counts()"
   ]
  },
  {
   "cell_type": "markdown",
   "id": "c77746fa-f4af-409b-8cfc-4b89093c6a5e",
   "metadata": {},
   "source": [
    "<h2><br>Deal with column Gender turning the values into (1/0).<h2>"
   ]
  },
  {
   "cell_type": "code",
   "execution_count": 39,
   "id": "b56ffaaf-d529-44a9-9b1d-03b8cb00839b",
   "metadata": {},
   "outputs": [
    {
     "data": {
      "text/plain": [
       "F    4433\n",
       "M    4237\n",
       "Name: gender, dtype: int64"
      ]
     },
     "execution_count": 39,
     "metadata": {},
     "output_type": "execute_result"
    }
   ],
   "source": [
    "final['gender'].value_counts()"
   ]
  },
  {
   "cell_type": "code",
   "execution_count": 40,
   "id": "756dd853-c7d8-4462-925e-bd9dba1c6b30",
   "metadata": {},
   "outputs": [],
   "source": [
    "final['gender'] = final['gender'].replace(to_replace=(\"F\", \"M\"), value = (1, 0))"
   ]
  },
  {
   "cell_type": "code",
   "execution_count": 41,
   "id": "37f96207-471e-4a6e-a2b5-4be702a3317a",
   "metadata": {},
   "outputs": [
    {
     "data": {
      "text/plain": [
       "1    4433\n",
       "0    4237\n",
       "Name: gender, dtype: int64"
      ]
     },
     "execution_count": 41,
     "metadata": {},
     "output_type": "execute_result"
    }
   ],
   "source": [
    "final['gender'].value_counts()"
   ]
  },
  {
   "cell_type": "markdown",
   "id": "088d0d1c-0a7a-4c87-8680-289b4c4b6112",
   "metadata": {},
   "source": [
    "<h2><br>Now, deal with vehicle_class grouping together \"Sports Car\", \"Luxury SUV\", \"Luxury Car\" into a commoun group called Luxury leaving the other values as they are. In this way, you will reduce a bit the class imbalance at the price of losing level of detail.<h2>"
   ]
  },
  {
   "cell_type": "code",
   "execution_count": 42,
   "id": "15258fe0-9d4f-411a-ba2a-a4478d814dd0",
   "metadata": {},
   "outputs": [
    {
     "data": {
      "text/plain": [
       "Four-Door Car    4398\n",
       "Two-Door Car     1789\n",
       "SUV              1689\n",
       "Sports Car        460\n",
       "Luxury SUV        177\n",
       "Luxury Car        157\n",
       "Name: vehicle_class, dtype: int64"
      ]
     },
     "execution_count": 42,
     "metadata": {},
     "output_type": "execute_result"
    }
   ],
   "source": [
    "final['vehicle_class'].value_counts()"
   ]
  },
  {
   "cell_type": "code",
   "execution_count": 43,
   "id": "651340c9-38cf-49fe-8de8-1f725f4b543e",
   "metadata": {},
   "outputs": [],
   "source": [
    "final['vehicle_class'] = final['vehicle_class'].replace(to_replace=(\"Sports Car\", \"Luxury SUV\", \"Luxury Car\"), value = ('Luxury'))"
   ]
  },
  {
   "cell_type": "code",
   "execution_count": 44,
   "id": "1b879d5f-3c2d-484f-a00e-b12168408b03",
   "metadata": {},
   "outputs": [
    {
     "data": {
      "text/plain": [
       "Four-Door Car    4398\n",
       "Two-Door Car     1789\n",
       "SUV              1689\n",
       "Luxury            794\n",
       "Name: vehicle_class, dtype: int64"
      ]
     },
     "execution_count": 44,
     "metadata": {},
     "output_type": "execute_result"
    }
   ],
   "source": [
    "final['vehicle_class'].value_counts()"
   ]
  },
  {
   "cell_type": "markdown",
   "id": "9906b3ac-6148-4c43-9348-e3128f8e1aef",
   "metadata": {},
   "source": [
    "<h2><br>Now it's time to deal with the categorical ordinal columns, asigning a numerical value to each unique value respecting the ìmplicit ordering`. Encode the coverage: \"Premium\" > \"Extended\" > \"Basic\".<h2>"
   ]
  },
  {
   "cell_type": "code",
   "execution_count": 45,
   "id": "d9cc1c61-3595-4043-ab1c-b38faf2a0334",
   "metadata": {},
   "outputs": [
    {
     "data": {
      "text/plain": [
       "Basic       5285\n",
       "Extended    2610\n",
       "Premium      775\n",
       "Name: coverage, dtype: int64"
      ]
     },
     "execution_count": 45,
     "metadata": {},
     "output_type": "execute_result"
    }
   ],
   "source": [
    "final['coverage'].value_counts()"
   ]
  },
  {
   "cell_type": "code",
   "execution_count": 46,
   "id": "a1a278e5-53fe-4045-b713-0d98046a1e74",
   "metadata": {},
   "outputs": [],
   "source": [
    "final['coverage'] = final['coverage'].replace(to_replace=(\"Basic\", \"Extended\", \"Premium\"), value = (1,2,3))"
   ]
  },
  {
   "cell_type": "code",
   "execution_count": 47,
   "id": "a6fc0b9d-863e-445f-8e85-ae6cdd22df3c",
   "metadata": {},
   "outputs": [
    {
     "data": {
      "text/plain": [
       "1    5285\n",
       "2    2610\n",
       "3     775\n",
       "Name: coverage, dtype: int64"
      ]
     },
     "execution_count": 47,
     "metadata": {},
     "output_type": "execute_result"
    }
   ],
   "source": [
    "final['coverage'].value_counts()"
   ]
  },
  {
   "cell_type": "markdown",
   "id": "76b8a21d-b5be-4909-aaff-952ac7119732",
   "metadata": {},
   "source": [
    "<h2><br>Encode the column employmentstatus as: \"Employed\" > \"Inactive\" > \"Unemployed\".<h2>"
   ]
  },
  {
   "cell_type": "code",
   "execution_count": 48,
   "id": "c5198f27-84d2-4f21-9760-6d0e7dc026ab",
   "metadata": {},
   "outputs": [
    {
     "data": {
      "text/plain": [
       "Employed      5421\n",
       "Unemployed    2185\n",
       "Inactive      1064\n",
       "Name: employmentstatus, dtype: int64"
      ]
     },
     "execution_count": 48,
     "metadata": {},
     "output_type": "execute_result"
    }
   ],
   "source": [
    "final['employmentstatus'].value_counts()"
   ]
  },
  {
   "cell_type": "code",
   "execution_count": 49,
   "id": "8324deb3-4738-42a1-8af8-238300599953",
   "metadata": {},
   "outputs": [],
   "source": [
    "final['employmentstatus'] = final['employmentstatus'].replace(to_replace=(\"Unemployed\", \"Inactive\", \"Employed\"), value = (1,2,3))"
   ]
  },
  {
   "cell_type": "code",
   "execution_count": 50,
   "id": "3a202543-55b1-43e7-a170-c3f2d75b0b2e",
   "metadata": {},
   "outputs": [
    {
     "data": {
      "text/plain": [
       "3    5421\n",
       "1    2185\n",
       "2    1064\n",
       "Name: employmentstatus, dtype: int64"
      ]
     },
     "execution_count": 50,
     "metadata": {},
     "output_type": "execute_result"
    }
   ],
   "source": [
    "final['employmentstatus'].value_counts()"
   ]
  },
  {
   "cell_type": "markdown",
   "id": "3da60161-bee8-4957-8566-d546e7a950b0",
   "metadata": {},
   "source": [
    "<h2><br>Encode the column location_code as: \"Urban\" > \"Suburban\" > \"Rural\".<br><h2>"
   ]
  },
  {
   "cell_type": "code",
   "execution_count": 51,
   "id": "0af3bca7-44b8-4c20-8931-8928c8b31fc1",
   "metadata": {},
   "outputs": [
    {
     "data": {
      "text/plain": [
       "Suburban    5466\n",
       "Rural       1694\n",
       "Urban       1510\n",
       "Name: location_code, dtype: int64"
      ]
     },
     "execution_count": 51,
     "metadata": {},
     "output_type": "execute_result"
    }
   ],
   "source": [
    "final['location_code'].value_counts()"
   ]
  },
  {
   "cell_type": "code",
   "execution_count": 52,
   "id": "50491be8-fd69-4384-8eff-0c188a2fea4c",
   "metadata": {},
   "outputs": [],
   "source": [
    "final['location_code'] = final['location_code'].replace(to_replace=(\"Rural\", \"Suburban\", \"Urban\"), value = (1,2,3))"
   ]
  },
  {
   "cell_type": "code",
   "execution_count": 53,
   "id": "d37af246-f14e-4fd4-9c20-917672c949b8",
   "metadata": {},
   "outputs": [
    {
     "data": {
      "text/plain": [
       "2    5466\n",
       "1    1694\n",
       "3    1510\n",
       "Name: location_code, dtype: int64"
      ]
     },
     "execution_count": 53,
     "metadata": {},
     "output_type": "execute_result"
    }
   ],
   "source": [
    "final['location_code'].value_counts()"
   ]
  },
  {
   "cell_type": "markdown",
   "id": "6cad3f34-229d-4039-8a02-95b311c91c0a",
   "metadata": {},
   "source": [
    "<h2><br>Encode the column vehicle_size as: \"Large\" > \"Medsize\" > \"Small\"<h2>"
   ]
  },
  {
   "cell_type": "code",
   "execution_count": 54,
   "id": "0a52a497-d307-40d2-9417-6bba5bbbf8ff",
   "metadata": {},
   "outputs": [
    {
     "data": {
      "text/plain": [
       "Medsize    6092\n",
       "Small      1679\n",
       "Large       899\n",
       "Name: vehicle_size, dtype: int64"
      ]
     },
     "execution_count": 54,
     "metadata": {},
     "output_type": "execute_result"
    }
   ],
   "source": [
    "final['vehicle_size'].value_counts()"
   ]
  },
  {
   "cell_type": "code",
   "execution_count": 55,
   "id": "89b7406f-815f-405b-83dc-b171b8e0c063",
   "metadata": {},
   "outputs": [],
   "source": [
    "final['vehicle_size'] = final['vehicle_size'].replace(to_replace=(\"Small\", \"Medsize\", \"Large\"), value = (1,2,3))"
   ]
  },
  {
   "cell_type": "code",
   "execution_count": 56,
   "id": "e35648de-1cb9-48fe-aea4-ab36c528daf7",
   "metadata": {},
   "outputs": [
    {
     "data": {
      "text/plain": [
       "2    6092\n",
       "1    1679\n",
       "3     899\n",
       "Name: vehicle_size, dtype: int64"
      ]
     },
     "execution_count": 56,
     "metadata": {},
     "output_type": "execute_result"
    }
   ],
   "source": [
    "final['vehicle_size'].value_counts()"
   ]
  },
  {
   "cell_type": "markdown",
   "id": "40c72557-c84d-48a2-bdde-5cd654eb962c",
   "metadata": {},
   "source": [
    "<h2><br>Get a dataframe with the categorical nominal columns<h2>"
   ]
  },
  {
   "cell_type": "code",
   "execution_count": 57,
   "id": "4dd458fe-8026-4d11-8967-83dabd47c0be",
   "metadata": {},
   "outputs": [],
   "source": [
    "cat_nom = final.select_dtypes(object)"
   ]
  },
  {
   "cell_type": "code",
   "execution_count": 58,
   "id": "ba319226-695e-4bcc-8e2d-1fdaba4de544",
   "metadata": {},
   "outputs": [
    {
     "data": {
      "text/html": [
       "<div>\n",
       "<style scoped>\n",
       "    .dataframe tbody tr th:only-of-type {\n",
       "        vertical-align: middle;\n",
       "    }\n",
       "\n",
       "    .dataframe tbody tr th {\n",
       "        vertical-align: top;\n",
       "    }\n",
       "\n",
       "    .dataframe thead th {\n",
       "        text-align: right;\n",
       "    }\n",
       "</style>\n",
       "<table border=\"1\" class=\"dataframe\">\n",
       "  <thead>\n",
       "    <tr style=\"text-align: right;\">\n",
       "      <th></th>\n",
       "      <th>state</th>\n",
       "      <th>education</th>\n",
       "      <th>marital_status</th>\n",
       "      <th>policy</th>\n",
       "      <th>renew_offer_type</th>\n",
       "      <th>sales_channel</th>\n",
       "      <th>vehicle_class</th>\n",
       "      <th>day_name</th>\n",
       "    </tr>\n",
       "  </thead>\n",
       "  <tbody>\n",
       "    <tr>\n",
       "      <th>0</th>\n",
       "      <td>Washington</td>\n",
       "      <td>Bachelor</td>\n",
       "      <td>Married</td>\n",
       "      <td>L3</td>\n",
       "      <td>Offer1</td>\n",
       "      <td>Agent</td>\n",
       "      <td>Two-Door Car</td>\n",
       "      <td>Thursday</td>\n",
       "    </tr>\n",
       "    <tr>\n",
       "      <th>1</th>\n",
       "      <td>Arizona</td>\n",
       "      <td>Bachelor</td>\n",
       "      <td>Single</td>\n",
       "      <td>L3</td>\n",
       "      <td>Offer3</td>\n",
       "      <td>Agent</td>\n",
       "      <td>Four-Door Car</td>\n",
       "      <td>Monday</td>\n",
       "    </tr>\n",
       "    <tr>\n",
       "      <th>2</th>\n",
       "      <td>Nevada</td>\n",
       "      <td>Bachelor</td>\n",
       "      <td>Married</td>\n",
       "      <td>L3</td>\n",
       "      <td>Offer1</td>\n",
       "      <td>Agent</td>\n",
       "      <td>Two-Door Car</td>\n",
       "      <td>Saturday</td>\n",
       "    </tr>\n",
       "    <tr>\n",
       "      <th>3</th>\n",
       "      <td>California</td>\n",
       "      <td>Bachelor</td>\n",
       "      <td>Married</td>\n",
       "      <td>L2</td>\n",
       "      <td>Offer1</td>\n",
       "      <td>Call Center</td>\n",
       "      <td>SUV</td>\n",
       "      <td>Thursday</td>\n",
       "    </tr>\n",
       "    <tr>\n",
       "      <th>4</th>\n",
       "      <td>Washington</td>\n",
       "      <td>Bachelor</td>\n",
       "      <td>Single</td>\n",
       "      <td>L1</td>\n",
       "      <td>Offer1</td>\n",
       "      <td>Agent</td>\n",
       "      <td>Four-Door Car</td>\n",
       "      <td>Thursday</td>\n",
       "    </tr>\n",
       "    <tr>\n",
       "      <th>...</th>\n",
       "      <td>...</td>\n",
       "      <td>...</td>\n",
       "      <td>...</td>\n",
       "      <td>...</td>\n",
       "      <td>...</td>\n",
       "      <td>...</td>\n",
       "      <td>...</td>\n",
       "      <td>...</td>\n",
       "    </tr>\n",
       "    <tr>\n",
       "      <th>8665</th>\n",
       "      <td>California</td>\n",
       "      <td>College</td>\n",
       "      <td>Married</td>\n",
       "      <td>L2</td>\n",
       "      <td>Offer1</td>\n",
       "      <td>Web</td>\n",
       "      <td>Four-Door Car</td>\n",
       "      <td>Friday</td>\n",
       "    </tr>\n",
       "    <tr>\n",
       "      <th>8666</th>\n",
       "      <td>California</td>\n",
       "      <td>Graduate</td>\n",
       "      <td>Married</td>\n",
       "      <td>L2</td>\n",
       "      <td>Offer2</td>\n",
       "      <td>Branch</td>\n",
       "      <td>Four-Door Car</td>\n",
       "      <td>Wednesday</td>\n",
       "    </tr>\n",
       "    <tr>\n",
       "      <th>8667</th>\n",
       "      <td>California</td>\n",
       "      <td>High School or Below</td>\n",
       "      <td>Single</td>\n",
       "      <td>L3</td>\n",
       "      <td>Offer2</td>\n",
       "      <td>Call Center</td>\n",
       "      <td>Two-Door Car</td>\n",
       "      <td>Friday</td>\n",
       "    </tr>\n",
       "    <tr>\n",
       "      <th>8668</th>\n",
       "      <td>California</td>\n",
       "      <td>High School or Below</td>\n",
       "      <td>Single</td>\n",
       "      <td>L2</td>\n",
       "      <td>Offer3</td>\n",
       "      <td>Agent</td>\n",
       "      <td>Four-Door Car</td>\n",
       "      <td>Wednesday</td>\n",
       "    </tr>\n",
       "    <tr>\n",
       "      <th>8669</th>\n",
       "      <td>California</td>\n",
       "      <td>College</td>\n",
       "      <td>Married</td>\n",
       "      <td>L2</td>\n",
       "      <td>Offer2</td>\n",
       "      <td>Call Center</td>\n",
       "      <td>Four-Door Car</td>\n",
       "      <td>Saturday</td>\n",
       "    </tr>\n",
       "  </tbody>\n",
       "</table>\n",
       "<p>8670 rows × 8 columns</p>\n",
       "</div>"
      ],
      "text/plain": [
       "           state             education marital_status policy renew_offer_type  \\\n",
       "0     Washington              Bachelor        Married     L3           Offer1   \n",
       "1        Arizona              Bachelor         Single     L3           Offer3   \n",
       "2         Nevada              Bachelor        Married     L3           Offer1   \n",
       "3     California              Bachelor        Married     L2           Offer1   \n",
       "4     Washington              Bachelor         Single     L1           Offer1   \n",
       "...          ...                   ...            ...    ...              ...   \n",
       "8665  California               College        Married     L2           Offer1   \n",
       "8666  California              Graduate        Married     L2           Offer2   \n",
       "8667  California  High School or Below         Single     L3           Offer2   \n",
       "8668  California  High School or Below         Single     L2           Offer3   \n",
       "8669  California               College        Married     L2           Offer2   \n",
       "\n",
       "     sales_channel  vehicle_class   day_name  \n",
       "0            Agent   Two-Door Car   Thursday  \n",
       "1            Agent  Four-Door Car     Monday  \n",
       "2            Agent   Two-Door Car   Saturday  \n",
       "3      Call Center            SUV   Thursday  \n",
       "4            Agent  Four-Door Car   Thursday  \n",
       "...            ...            ...        ...  \n",
       "8665           Web  Four-Door Car     Friday  \n",
       "8666        Branch  Four-Door Car  Wednesday  \n",
       "8667   Call Center   Two-Door Car     Friday  \n",
       "8668         Agent  Four-Door Car  Wednesday  \n",
       "8669   Call Center  Four-Door Car   Saturday  \n",
       "\n",
       "[8670 rows x 8 columns]"
      ]
     },
     "execution_count": 58,
     "metadata": {},
     "output_type": "execute_result"
    }
   ],
   "source": [
    "cat_nom"
   ]
  },
  {
   "cell_type": "markdown",
   "id": "f552236b-eb53-47ad-b9b3-f64ba5de0552",
   "metadata": {},
   "source": [
    "<h2><br>Create a list named levels which has as many elements as categorical nominal columns. Each element must be another list with all the possible unique values of the corresponding categorical nominal column: ie:<br>levels = [ [col1_value1, col1_value2,...], [col2_value1, col2_value2,...], ...]<h2>"
   ]
  },
  {
   "cell_type": "code",
   "execution_count": 59,
   "id": "1c812be6-a1df-4c26-abee-d7bc65237ddf",
   "metadata": {},
   "outputs": [],
   "source": [
    "state = list(set(list(cat_nom['state'])))\n",
    "education = list(set(list(cat_nom['education'])))\n",
    "marital_status = list(set(list(cat_nom['marital_status'])))\n",
    "policy = list(set(list(cat_nom['policy'])))\n",
    "renew_offer_type = list(set(list(cat_nom['renew_offer_type'])))\n",
    "sales_channel = list(set(list(cat_nom['sales_channel'])))\n",
    "vehicle_class = list(set(list(cat_nom['vehicle_class'])))\n",
    "day_name = list(set(list(cat_nom['day_name'])))"
   ]
  },
  {
   "cell_type": "code",
   "execution_count": 60,
   "id": "bd2471f6-8809-4c72-8faf-b4400eec133c",
   "metadata": {},
   "outputs": [],
   "source": [
    "levels = [state, education, marital_status, policy, renew_offer_type, sales_channel, vehicle_class, day_name]"
   ]
  },
  {
   "cell_type": "code",
   "execution_count": 61,
   "id": "e9b4493f-759b-4e60-b80f-37a6242905c5",
   "metadata": {},
   "outputs": [
    {
     "data": {
      "text/plain": [
       "[['Nevada', 'Oregon', 'California', 'Washington', 'Arizona'],\n",
       " ['College', 'Graduate', 'High School or Below', 'Bachelor'],\n",
       " ['Divorced', 'Single', 'Married'],\n",
       " ['L3', 'L1', 'L2'],\n",
       " ['Offer2', 'Offer1', 'Offer4', 'Offer3'],\n",
       " ['Agent', 'Branch', 'Web', 'Call Center'],\n",
       " ['Luxury', 'Two-Door Car', 'SUV', 'Four-Door Car'],\n",
       " ['Thursday',\n",
       "  'Monday',\n",
       "  'Sunday',\n",
       "  'Saturday',\n",
       "  'Tuesday',\n",
       "  'Wednesday',\n",
       "  'Friday']]"
      ]
     },
     "execution_count": 61,
     "metadata": {},
     "output_type": "execute_result"
    }
   ],
   "source": [
    "levels"
   ]
  },
  {
   "cell_type": "markdown",
   "id": "d541b5ee-d3ee-4fdf-b96a-a06ddd58cdcd",
   "metadata": {},
   "source": [
    "<h2><br>Instantiate an sklearn OneHotEncoder with drop set to first and categories to levels<h2>"
   ]
  },
  {
   "cell_type": "code",
   "execution_count": 62,
   "id": "261a34b6-3d4d-460c-9b58-5abd04816b27",
   "metadata": {},
   "outputs": [],
   "source": [
    "from sklearn.preprocessing import OneHotEncoder"
   ]
  },
  {
   "cell_type": "code",
   "execution_count": 63,
   "id": "2aea45f4-ede5-4144-be36-1a29c3c07c94",
   "metadata": {},
   "outputs": [
    {
     "data": {
      "text/html": [
       "<div>\n",
       "<style scoped>\n",
       "    .dataframe tbody tr th:only-of-type {\n",
       "        vertical-align: middle;\n",
       "    }\n",
       "\n",
       "    .dataframe tbody tr th {\n",
       "        vertical-align: top;\n",
       "    }\n",
       "\n",
       "    .dataframe thead th {\n",
       "        text-align: right;\n",
       "    }\n",
       "</style>\n",
       "<table border=\"1\" class=\"dataframe\">\n",
       "  <thead>\n",
       "    <tr style=\"text-align: right;\">\n",
       "      <th></th>\n",
       "      <th>state_Oregon</th>\n",
       "      <th>state_California</th>\n",
       "      <th>state_Washington</th>\n",
       "      <th>state_Arizona</th>\n",
       "      <th>education_Graduate</th>\n",
       "      <th>education_High School or Below</th>\n",
       "      <th>education_Bachelor</th>\n",
       "      <th>marital_status_Single</th>\n",
       "      <th>marital_status_Married</th>\n",
       "      <th>policy_L1</th>\n",
       "      <th>...</th>\n",
       "      <th>sales_channel_Call Center</th>\n",
       "      <th>vehicle_class_Two-Door Car</th>\n",
       "      <th>vehicle_class_SUV</th>\n",
       "      <th>vehicle_class_Four-Door Car</th>\n",
       "      <th>day_name_Monday</th>\n",
       "      <th>day_name_Sunday</th>\n",
       "      <th>day_name_Saturday</th>\n",
       "      <th>day_name_Tuesday</th>\n",
       "      <th>day_name_Wednesday</th>\n",
       "      <th>day_name_Friday</th>\n",
       "    </tr>\n",
       "  </thead>\n",
       "  <tbody>\n",
       "    <tr>\n",
       "      <th>0</th>\n",
       "      <td>0.0</td>\n",
       "      <td>0.0</td>\n",
       "      <td>1.0</td>\n",
       "      <td>0.0</td>\n",
       "      <td>0.0</td>\n",
       "      <td>0.0</td>\n",
       "      <td>1.0</td>\n",
       "      <td>0.0</td>\n",
       "      <td>1.0</td>\n",
       "      <td>0.0</td>\n",
       "      <td>...</td>\n",
       "      <td>0.0</td>\n",
       "      <td>1.0</td>\n",
       "      <td>0.0</td>\n",
       "      <td>0.0</td>\n",
       "      <td>0.0</td>\n",
       "      <td>0.0</td>\n",
       "      <td>0.0</td>\n",
       "      <td>0.0</td>\n",
       "      <td>0.0</td>\n",
       "      <td>0.0</td>\n",
       "    </tr>\n",
       "    <tr>\n",
       "      <th>1</th>\n",
       "      <td>0.0</td>\n",
       "      <td>0.0</td>\n",
       "      <td>0.0</td>\n",
       "      <td>1.0</td>\n",
       "      <td>0.0</td>\n",
       "      <td>0.0</td>\n",
       "      <td>1.0</td>\n",
       "      <td>1.0</td>\n",
       "      <td>0.0</td>\n",
       "      <td>0.0</td>\n",
       "      <td>...</td>\n",
       "      <td>0.0</td>\n",
       "      <td>0.0</td>\n",
       "      <td>0.0</td>\n",
       "      <td>1.0</td>\n",
       "      <td>1.0</td>\n",
       "      <td>0.0</td>\n",
       "      <td>0.0</td>\n",
       "      <td>0.0</td>\n",
       "      <td>0.0</td>\n",
       "      <td>0.0</td>\n",
       "    </tr>\n",
       "    <tr>\n",
       "      <th>2</th>\n",
       "      <td>0.0</td>\n",
       "      <td>0.0</td>\n",
       "      <td>0.0</td>\n",
       "      <td>0.0</td>\n",
       "      <td>0.0</td>\n",
       "      <td>0.0</td>\n",
       "      <td>1.0</td>\n",
       "      <td>0.0</td>\n",
       "      <td>1.0</td>\n",
       "      <td>0.0</td>\n",
       "      <td>...</td>\n",
       "      <td>0.0</td>\n",
       "      <td>1.0</td>\n",
       "      <td>0.0</td>\n",
       "      <td>0.0</td>\n",
       "      <td>0.0</td>\n",
       "      <td>0.0</td>\n",
       "      <td>1.0</td>\n",
       "      <td>0.0</td>\n",
       "      <td>0.0</td>\n",
       "      <td>0.0</td>\n",
       "    </tr>\n",
       "    <tr>\n",
       "      <th>3</th>\n",
       "      <td>0.0</td>\n",
       "      <td>1.0</td>\n",
       "      <td>0.0</td>\n",
       "      <td>0.0</td>\n",
       "      <td>0.0</td>\n",
       "      <td>0.0</td>\n",
       "      <td>1.0</td>\n",
       "      <td>0.0</td>\n",
       "      <td>1.0</td>\n",
       "      <td>0.0</td>\n",
       "      <td>...</td>\n",
       "      <td>1.0</td>\n",
       "      <td>0.0</td>\n",
       "      <td>1.0</td>\n",
       "      <td>0.0</td>\n",
       "      <td>0.0</td>\n",
       "      <td>0.0</td>\n",
       "      <td>0.0</td>\n",
       "      <td>0.0</td>\n",
       "      <td>0.0</td>\n",
       "      <td>0.0</td>\n",
       "    </tr>\n",
       "    <tr>\n",
       "      <th>4</th>\n",
       "      <td>0.0</td>\n",
       "      <td>0.0</td>\n",
       "      <td>1.0</td>\n",
       "      <td>0.0</td>\n",
       "      <td>0.0</td>\n",
       "      <td>0.0</td>\n",
       "      <td>1.0</td>\n",
       "      <td>1.0</td>\n",
       "      <td>0.0</td>\n",
       "      <td>1.0</td>\n",
       "      <td>...</td>\n",
       "      <td>0.0</td>\n",
       "      <td>0.0</td>\n",
       "      <td>0.0</td>\n",
       "      <td>1.0</td>\n",
       "      <td>0.0</td>\n",
       "      <td>0.0</td>\n",
       "      <td>0.0</td>\n",
       "      <td>0.0</td>\n",
       "      <td>0.0</td>\n",
       "      <td>0.0</td>\n",
       "    </tr>\n",
       "    <tr>\n",
       "      <th>...</th>\n",
       "      <td>...</td>\n",
       "      <td>...</td>\n",
       "      <td>...</td>\n",
       "      <td>...</td>\n",
       "      <td>...</td>\n",
       "      <td>...</td>\n",
       "      <td>...</td>\n",
       "      <td>...</td>\n",
       "      <td>...</td>\n",
       "      <td>...</td>\n",
       "      <td>...</td>\n",
       "      <td>...</td>\n",
       "      <td>...</td>\n",
       "      <td>...</td>\n",
       "      <td>...</td>\n",
       "      <td>...</td>\n",
       "      <td>...</td>\n",
       "      <td>...</td>\n",
       "      <td>...</td>\n",
       "      <td>...</td>\n",
       "      <td>...</td>\n",
       "    </tr>\n",
       "    <tr>\n",
       "      <th>8665</th>\n",
       "      <td>0.0</td>\n",
       "      <td>1.0</td>\n",
       "      <td>0.0</td>\n",
       "      <td>0.0</td>\n",
       "      <td>0.0</td>\n",
       "      <td>0.0</td>\n",
       "      <td>0.0</td>\n",
       "      <td>0.0</td>\n",
       "      <td>1.0</td>\n",
       "      <td>0.0</td>\n",
       "      <td>...</td>\n",
       "      <td>0.0</td>\n",
       "      <td>0.0</td>\n",
       "      <td>0.0</td>\n",
       "      <td>1.0</td>\n",
       "      <td>0.0</td>\n",
       "      <td>0.0</td>\n",
       "      <td>0.0</td>\n",
       "      <td>0.0</td>\n",
       "      <td>0.0</td>\n",
       "      <td>1.0</td>\n",
       "    </tr>\n",
       "    <tr>\n",
       "      <th>8666</th>\n",
       "      <td>0.0</td>\n",
       "      <td>1.0</td>\n",
       "      <td>0.0</td>\n",
       "      <td>0.0</td>\n",
       "      <td>1.0</td>\n",
       "      <td>0.0</td>\n",
       "      <td>0.0</td>\n",
       "      <td>0.0</td>\n",
       "      <td>1.0</td>\n",
       "      <td>0.0</td>\n",
       "      <td>...</td>\n",
       "      <td>0.0</td>\n",
       "      <td>0.0</td>\n",
       "      <td>0.0</td>\n",
       "      <td>1.0</td>\n",
       "      <td>0.0</td>\n",
       "      <td>0.0</td>\n",
       "      <td>0.0</td>\n",
       "      <td>0.0</td>\n",
       "      <td>1.0</td>\n",
       "      <td>0.0</td>\n",
       "    </tr>\n",
       "    <tr>\n",
       "      <th>8667</th>\n",
       "      <td>0.0</td>\n",
       "      <td>1.0</td>\n",
       "      <td>0.0</td>\n",
       "      <td>0.0</td>\n",
       "      <td>0.0</td>\n",
       "      <td>1.0</td>\n",
       "      <td>0.0</td>\n",
       "      <td>1.0</td>\n",
       "      <td>0.0</td>\n",
       "      <td>0.0</td>\n",
       "      <td>...</td>\n",
       "      <td>1.0</td>\n",
       "      <td>1.0</td>\n",
       "      <td>0.0</td>\n",
       "      <td>0.0</td>\n",
       "      <td>0.0</td>\n",
       "      <td>0.0</td>\n",
       "      <td>0.0</td>\n",
       "      <td>0.0</td>\n",
       "      <td>0.0</td>\n",
       "      <td>1.0</td>\n",
       "    </tr>\n",
       "    <tr>\n",
       "      <th>8668</th>\n",
       "      <td>0.0</td>\n",
       "      <td>1.0</td>\n",
       "      <td>0.0</td>\n",
       "      <td>0.0</td>\n",
       "      <td>0.0</td>\n",
       "      <td>1.0</td>\n",
       "      <td>0.0</td>\n",
       "      <td>1.0</td>\n",
       "      <td>0.0</td>\n",
       "      <td>0.0</td>\n",
       "      <td>...</td>\n",
       "      <td>0.0</td>\n",
       "      <td>0.0</td>\n",
       "      <td>0.0</td>\n",
       "      <td>1.0</td>\n",
       "      <td>0.0</td>\n",
       "      <td>0.0</td>\n",
       "      <td>0.0</td>\n",
       "      <td>0.0</td>\n",
       "      <td>1.0</td>\n",
       "      <td>0.0</td>\n",
       "    </tr>\n",
       "    <tr>\n",
       "      <th>8669</th>\n",
       "      <td>0.0</td>\n",
       "      <td>1.0</td>\n",
       "      <td>0.0</td>\n",
       "      <td>0.0</td>\n",
       "      <td>0.0</td>\n",
       "      <td>0.0</td>\n",
       "      <td>0.0</td>\n",
       "      <td>0.0</td>\n",
       "      <td>1.0</td>\n",
       "      <td>0.0</td>\n",
       "      <td>...</td>\n",
       "      <td>1.0</td>\n",
       "      <td>0.0</td>\n",
       "      <td>0.0</td>\n",
       "      <td>1.0</td>\n",
       "      <td>0.0</td>\n",
       "      <td>0.0</td>\n",
       "      <td>1.0</td>\n",
       "      <td>0.0</td>\n",
       "      <td>0.0</td>\n",
       "      <td>0.0</td>\n",
       "    </tr>\n",
       "  </tbody>\n",
       "</table>\n",
       "<p>8670 rows × 26 columns</p>\n",
       "</div>"
      ],
      "text/plain": [
       "      state_Oregon  state_California  state_Washington  state_Arizona  \\\n",
       "0              0.0               0.0               1.0            0.0   \n",
       "1              0.0               0.0               0.0            1.0   \n",
       "2              0.0               0.0               0.0            0.0   \n",
       "3              0.0               1.0               0.0            0.0   \n",
       "4              0.0               0.0               1.0            0.0   \n",
       "...            ...               ...               ...            ...   \n",
       "8665           0.0               1.0               0.0            0.0   \n",
       "8666           0.0               1.0               0.0            0.0   \n",
       "8667           0.0               1.0               0.0            0.0   \n",
       "8668           0.0               1.0               0.0            0.0   \n",
       "8669           0.0               1.0               0.0            0.0   \n",
       "\n",
       "      education_Graduate  education_High School or Below  education_Bachelor  \\\n",
       "0                    0.0                             0.0                 1.0   \n",
       "1                    0.0                             0.0                 1.0   \n",
       "2                    0.0                             0.0                 1.0   \n",
       "3                    0.0                             0.0                 1.0   \n",
       "4                    0.0                             0.0                 1.0   \n",
       "...                  ...                             ...                 ...   \n",
       "8665                 0.0                             0.0                 0.0   \n",
       "8666                 1.0                             0.0                 0.0   \n",
       "8667                 0.0                             1.0                 0.0   \n",
       "8668                 0.0                             1.0                 0.0   \n",
       "8669                 0.0                             0.0                 0.0   \n",
       "\n",
       "      marital_status_Single  marital_status_Married  policy_L1  ...  \\\n",
       "0                       0.0                     1.0        0.0  ...   \n",
       "1                       1.0                     0.0        0.0  ...   \n",
       "2                       0.0                     1.0        0.0  ...   \n",
       "3                       0.0                     1.0        0.0  ...   \n",
       "4                       1.0                     0.0        1.0  ...   \n",
       "...                     ...                     ...        ...  ...   \n",
       "8665                    0.0                     1.0        0.0  ...   \n",
       "8666                    0.0                     1.0        0.0  ...   \n",
       "8667                    1.0                     0.0        0.0  ...   \n",
       "8668                    1.0                     0.0        0.0  ...   \n",
       "8669                    0.0                     1.0        0.0  ...   \n",
       "\n",
       "      sales_channel_Call Center  vehicle_class_Two-Door Car  \\\n",
       "0                           0.0                         1.0   \n",
       "1                           0.0                         0.0   \n",
       "2                           0.0                         1.0   \n",
       "3                           1.0                         0.0   \n",
       "4                           0.0                         0.0   \n",
       "...                         ...                         ...   \n",
       "8665                        0.0                         0.0   \n",
       "8666                        0.0                         0.0   \n",
       "8667                        1.0                         1.0   \n",
       "8668                        0.0                         0.0   \n",
       "8669                        1.0                         0.0   \n",
       "\n",
       "      vehicle_class_SUV  vehicle_class_Four-Door Car  day_name_Monday  \\\n",
       "0                   0.0                          0.0              0.0   \n",
       "1                   0.0                          1.0              1.0   \n",
       "2                   0.0                          0.0              0.0   \n",
       "3                   1.0                          0.0              0.0   \n",
       "4                   0.0                          1.0              0.0   \n",
       "...                 ...                          ...              ...   \n",
       "8665                0.0                          1.0              0.0   \n",
       "8666                0.0                          1.0              0.0   \n",
       "8667                0.0                          0.0              0.0   \n",
       "8668                0.0                          1.0              0.0   \n",
       "8669                0.0                          1.0              0.0   \n",
       "\n",
       "      day_name_Sunday  day_name_Saturday  day_name_Tuesday  \\\n",
       "0                 0.0                0.0               0.0   \n",
       "1                 0.0                0.0               0.0   \n",
       "2                 0.0                1.0               0.0   \n",
       "3                 0.0                0.0               0.0   \n",
       "4                 0.0                0.0               0.0   \n",
       "...               ...                ...               ...   \n",
       "8665              0.0                0.0               0.0   \n",
       "8666              0.0                0.0               0.0   \n",
       "8667              0.0                0.0               0.0   \n",
       "8668              0.0                0.0               0.0   \n",
       "8669              0.0                1.0               0.0   \n",
       "\n",
       "      day_name_Wednesday  day_name_Friday  \n",
       "0                    0.0              0.0  \n",
       "1                    0.0              0.0  \n",
       "2                    0.0              0.0  \n",
       "3                    0.0              0.0  \n",
       "4                    0.0              0.0  \n",
       "...                  ...              ...  \n",
       "8665                 0.0              1.0  \n",
       "8666                 1.0              0.0  \n",
       "8667                 0.0              1.0  \n",
       "8668                 1.0              0.0  \n",
       "8669                 0.0              0.0  \n",
       "\n",
       "[8670 rows x 26 columns]"
      ]
     },
     "execution_count": 63,
     "metadata": {},
     "output_type": "execute_result"
    }
   ],
   "source": [
    "encoder = OneHotEncoder(drop='first', categories=levels)\n",
    "encoder.fit(cat_nom)\n",
    "\n",
    "cat_nom_np = encoder.transform(cat_nom).toarray()\n",
    "\n",
    "cat_nom_df = pd.DataFrame(cat_nom_np, columns=encoder.get_feature_names_out())\n",
    "cat_nom_df"
   ]
  },
  {
   "cell_type": "markdown",
   "id": "e5c37b28-b19c-449e-8658-71a44ba259ff",
   "metadata": {},
   "source": [
    "<br><br><br><h1>Lab | Comparing regression models<h1>"
   ]
  },
  {
   "cell_type": "markdown",
   "id": "b6bb7359-d859-4ca5-bbc0-770816c5a705",
   "metadata": {},
   "source": [
    "<h2>Define X and y<h2>"
   ]
  },
  {
   "cell_type": "code",
   "execution_count": 64,
   "id": "6292f7b9-d631-4854-bb5b-63335e07961a",
   "metadata": {},
   "outputs": [],
   "source": [
    "from sklearn.model_selection import train_test_split\n",
    "from sklearn.preprocessing import MinMaxScaler, PowerTransformer\n",
    "import sklearn.metrics as metrics\n",
    "from sklearn.linear_model import LinearRegression\n",
    "from sklearn.metrics import mean_squared_error, r2_score, mean_absolute_percentage_error\n",
    "from sklearn.metrics import accuracy_score, precision_score, recall_score, f1_score, cohen_kappa_score, confusion_matrix, ConfusionMatrixDisplay\n",
    "from sklearn.neighbors import KNeighborsRegressor\n",
    "from sklearn.neural_network import MLPRegressor\n",
    "from sklearn.datasets import make_regression\n"
   ]
  },
  {
   "cell_type": "code",
   "execution_count": 65,
   "id": "cc20dd1a-2d7b-4f3a-aba9-4f88aea8e2e0",
   "metadata": {},
   "outputs": [
    {
     "data": {
      "text/html": [
       "<div>\n",
       "<style scoped>\n",
       "    .dataframe tbody tr th:only-of-type {\n",
       "        vertical-align: middle;\n",
       "    }\n",
       "\n",
       "    .dataframe tbody tr th {\n",
       "        vertical-align: top;\n",
       "    }\n",
       "\n",
       "    .dataframe thead th {\n",
       "        text-align: right;\n",
       "    }\n",
       "</style>\n",
       "<table border=\"1\" class=\"dataframe\">\n",
       "  <thead>\n",
       "    <tr style=\"text-align: right;\">\n",
       "      <th></th>\n",
       "      <th>customer_lifetime_value</th>\n",
       "      <th>income</th>\n",
       "      <th>monthly_premium_auto</th>\n",
       "      <th>months_since_last_claim</th>\n",
       "      <th>months_since_policy_inception</th>\n",
       "      <th>months_since_last_claim</th>\n",
       "      <th>number_of_open_complaints</th>\n",
       "      <th>number_of_policies</th>\n",
       "      <th>state</th>\n",
       "      <th>response</th>\n",
       "      <th>...</th>\n",
       "      <th>gender</th>\n",
       "      <th>location_code</th>\n",
       "      <th>marital_status</th>\n",
       "      <th>policy</th>\n",
       "      <th>renew_offer_type</th>\n",
       "      <th>sales_channel</th>\n",
       "      <th>vehicle_class</th>\n",
       "      <th>vehicle_size</th>\n",
       "      <th>day_name</th>\n",
       "      <th>total_claim_amount</th>\n",
       "    </tr>\n",
       "  </thead>\n",
       "  <tbody>\n",
       "    <tr>\n",
       "      <th>0</th>\n",
       "      <td>2763.52</td>\n",
       "      <td>56274.0</td>\n",
       "      <td>69.0</td>\n",
       "      <td>32.0</td>\n",
       "      <td>5.0</td>\n",
       "      <td>32</td>\n",
       "      <td>0</td>\n",
       "      <td>1</td>\n",
       "      <td>Washington</td>\n",
       "      <td>1</td>\n",
       "      <td>...</td>\n",
       "      <td>1</td>\n",
       "      <td>2</td>\n",
       "      <td>Married</td>\n",
       "      <td>L3</td>\n",
       "      <td>Offer1</td>\n",
       "      <td>Agent</td>\n",
       "      <td>Two-Door Car</td>\n",
       "      <td>2</td>\n",
       "      <td>Thursday</td>\n",
       "      <td>384.81</td>\n",
       "    </tr>\n",
       "    <tr>\n",
       "      <th>1</th>\n",
       "      <td>6979.54</td>\n",
       "      <td>0.0</td>\n",
       "      <td>94.0</td>\n",
       "      <td>13.0</td>\n",
       "      <td>42.0</td>\n",
       "      <td>13</td>\n",
       "      <td>0</td>\n",
       "      <td>8</td>\n",
       "      <td>Arizona</td>\n",
       "      <td>1</td>\n",
       "      <td>...</td>\n",
       "      <td>1</td>\n",
       "      <td>2</td>\n",
       "      <td>Single</td>\n",
       "      <td>L3</td>\n",
       "      <td>Offer3</td>\n",
       "      <td>Agent</td>\n",
       "      <td>Four-Door Car</td>\n",
       "      <td>2</td>\n",
       "      <td>Monday</td>\n",
       "      <td>1131.46</td>\n",
       "    </tr>\n",
       "    <tr>\n",
       "      <th>2</th>\n",
       "      <td>12887.43</td>\n",
       "      <td>48767.0</td>\n",
       "      <td>108.0</td>\n",
       "      <td>18.0</td>\n",
       "      <td>38.0</td>\n",
       "      <td>18</td>\n",
       "      <td>0</td>\n",
       "      <td>2</td>\n",
       "      <td>Nevada</td>\n",
       "      <td>1</td>\n",
       "      <td>...</td>\n",
       "      <td>1</td>\n",
       "      <td>2</td>\n",
       "      <td>Married</td>\n",
       "      <td>L3</td>\n",
       "      <td>Offer1</td>\n",
       "      <td>Agent</td>\n",
       "      <td>Two-Door Car</td>\n",
       "      <td>2</td>\n",
       "      <td>Saturday</td>\n",
       "      <td>566.47</td>\n",
       "    </tr>\n",
       "    <tr>\n",
       "      <th>3</th>\n",
       "      <td>7645.86</td>\n",
       "      <td>0.0</td>\n",
       "      <td>106.0</td>\n",
       "      <td>18.0</td>\n",
       "      <td>65.0</td>\n",
       "      <td>18</td>\n",
       "      <td>0</td>\n",
       "      <td>7</td>\n",
       "      <td>California</td>\n",
       "      <td>1</td>\n",
       "      <td>...</td>\n",
       "      <td>0</td>\n",
       "      <td>2</td>\n",
       "      <td>Married</td>\n",
       "      <td>L2</td>\n",
       "      <td>Offer1</td>\n",
       "      <td>Call Center</td>\n",
       "      <td>SUV</td>\n",
       "      <td>2</td>\n",
       "      <td>Thursday</td>\n",
       "      <td>529.88</td>\n",
       "    </tr>\n",
       "    <tr>\n",
       "      <th>4</th>\n",
       "      <td>2813.69</td>\n",
       "      <td>43836.0</td>\n",
       "      <td>73.0</td>\n",
       "      <td>12.0</td>\n",
       "      <td>44.0</td>\n",
       "      <td>12</td>\n",
       "      <td>0</td>\n",
       "      <td>1</td>\n",
       "      <td>Washington</td>\n",
       "      <td>1</td>\n",
       "      <td>...</td>\n",
       "      <td>0</td>\n",
       "      <td>1</td>\n",
       "      <td>Single</td>\n",
       "      <td>L1</td>\n",
       "      <td>Offer1</td>\n",
       "      <td>Agent</td>\n",
       "      <td>Four-Door Car</td>\n",
       "      <td>2</td>\n",
       "      <td>Thursday</td>\n",
       "      <td>138.13</td>\n",
       "    </tr>\n",
       "  </tbody>\n",
       "</table>\n",
       "<p>5 rows × 23 columns</p>\n",
       "</div>"
      ],
      "text/plain": [
       "   customer_lifetime_value   income  monthly_premium_auto  \\\n",
       "0                  2763.52  56274.0                  69.0   \n",
       "1                  6979.54      0.0                  94.0   \n",
       "2                 12887.43  48767.0                 108.0   \n",
       "3                  7645.86      0.0                 106.0   \n",
       "4                  2813.69  43836.0                  73.0   \n",
       "\n",
       "   months_since_last_claim  months_since_policy_inception  \\\n",
       "0                     32.0                            5.0   \n",
       "1                     13.0                           42.0   \n",
       "2                     18.0                           38.0   \n",
       "3                     18.0                           65.0   \n",
       "4                     12.0                           44.0   \n",
       "\n",
       "   months_since_last_claim  number_of_open_complaints  number_of_policies  \\\n",
       "0                       32                          0                   1   \n",
       "1                       13                          0                   8   \n",
       "2                       18                          0                   2   \n",
       "3                       18                          0                   7   \n",
       "4                       12                          0                   1   \n",
       "\n",
       "        state  response  ...  gender location_code  marital_status  policy  \\\n",
       "0  Washington         1  ...       1             2         Married      L3   \n",
       "1     Arizona         1  ...       1             2          Single      L3   \n",
       "2      Nevada         1  ...       1             2         Married      L3   \n",
       "3  California         1  ...       0             2         Married      L2   \n",
       "4  Washington         1  ...       0             1          Single      L1   \n",
       "\n",
       "   renew_offer_type sales_channel  vehicle_class vehicle_size  day_name  \\\n",
       "0            Offer1         Agent   Two-Door Car            2  Thursday   \n",
       "1            Offer3         Agent  Four-Door Car            2    Monday   \n",
       "2            Offer1         Agent   Two-Door Car            2  Saturday   \n",
       "3            Offer1   Call Center            SUV            2  Thursday   \n",
       "4            Offer1         Agent  Four-Door Car            2  Thursday   \n",
       "\n",
       "  total_claim_amount  \n",
       "0             384.81  \n",
       "1            1131.46  \n",
       "2             566.47  \n",
       "3             529.88  \n",
       "4             138.13  \n",
       "\n",
       "[5 rows x 23 columns]"
      ]
     },
     "execution_count": 65,
     "metadata": {},
     "output_type": "execute_result"
    }
   ],
   "source": [
    "final = round(final,2)\n",
    "final.head()"
   ]
  },
  {
   "cell_type": "code",
   "execution_count": 66,
   "id": "be67dd8f-65ad-40dd-88aa-c0ec5c984a6d",
   "metadata": {},
   "outputs": [],
   "source": [
    "X = final.drop(['total_claim_amount'], axis=1)\n",
    "y = final['total_claim_amount']"
   ]
  },
  {
   "cell_type": "code",
   "execution_count": 67,
   "id": "1733bf96-8b9d-4176-8412-0a20a9b7a8a7",
   "metadata": {},
   "outputs": [],
   "source": [
    "X_train, X_test, y_train, y_test = train_test_split(X, y, test_size=0.3, random_state=31)"
   ]
  },
  {
   "cell_type": "code",
   "execution_count": 68,
   "id": "56f707ec-cd47-4576-90cb-a024f28cbae6",
   "metadata": {},
   "outputs": [],
   "source": [
    "X_train_num = X_train.select_dtypes(include = np.number)\n",
    "X_test_num  = X_test.select_dtypes(include = np.number)\n",
    "X_train_cat = X_train.select_dtypes(include = object)\n",
    "X_test_cat = X_test.select_dtypes(include = object)"
   ]
  },
  {
   "cell_type": "code",
   "execution_count": 69,
   "id": "a5c776d4-0ca3-4740-bbb5-ef0118c0ec72",
   "metadata": {},
   "outputs": [],
   "source": [
    "encoder = OneHotEncoder(drop='first')\n",
    "encoder.fit(X_train_cat)\n",
    "X_train_cat_ar = encoder.transform(X_train_cat).toarray()\n",
    "X_train_cat_encoded_df = pd.DataFrame(X_train_cat_ar, columns=encoder.get_feature_names_out())\n",
    "encoder.fit(X_test_cat)\n",
    "X_test_cat_ar = encoder.transform(X_test_cat).toarray()\n",
    "X_test_cat_encoded_df = pd.DataFrame(X_test_cat_ar, columns=encoder.get_feature_names_out())"
   ]
  },
  {
   "cell_type": "markdown",
   "id": "f189b182-6b16-4773-805c-96cc84ddffd4",
   "metadata": {},
   "source": [
    "<h2>Use X_train_num to fit a power transformer. Transform BOTH X_train_num and X_test_num. Next, cast the resulting numpy arrays as pandas dataframes. Make sure to set the correct columns names and to use the same indexes of X_train_num and X_test_num. Name the final resulting dataframes as: X_train_num_transformed_df and X_test_num_transformed_df<h2>"
   ]
  },
  {
   "cell_type": "code",
   "execution_count": 70,
   "id": "f78ed18f-60f7-447f-8eaa-a4a5dfa7b748",
   "metadata": {},
   "outputs": [
    {
     "name": "stderr",
     "output_type": "stream",
     "text": [
      "/home/juan/anaconda3/lib/python3.9/site-packages/sklearn/preprocessing/_data.py:3253: RuntimeWarning: divide by zero encountered in log\n",
      "  loglike = -n_samples / 2 * np.log(x_trans.var())\n",
      "/home/juan/anaconda3/lib/python3.9/site-packages/sklearn/preprocessing/_data.py:3253: RuntimeWarning: divide by zero encountered in log\n",
      "  loglike = -n_samples / 2 * np.log(x_trans.var())\n"
     ]
    }
   ],
   "source": [
    "transformer = PowerTransformer().fit(X_train_num)\n",
    "X_train_num_ar = transformer.transform(X_train_num)\n",
    "X_train_num_transformed_df = pd.DataFrame(X_train_num_ar, columns=X_train_num.columns)\n",
    "\n",
    "transformer = PowerTransformer().fit(X_test_num)\n",
    "X_test_num_ar = transformer.transform(X_test_num)\n",
    "X_test_num_transformed_df = pd.DataFrame(X_test_num_ar, columns=X_test_num.columns)"
   ]
  },
  {
   "cell_type": "markdown",
   "id": "0dfad15e-70ea-4840-a0b9-c8740936ef07",
   "metadata": {},
   "source": [
    "<br><h2>Concat X_train_num_transformed_df and X_train_cat_encoded_df into X_train_new and X_test_num_transformed_df and X_test_cat_encoded_df into X_test_new<h2>"
   ]
  },
  {
   "cell_type": "code",
   "execution_count": 71,
   "id": "4c625a1f-be09-4cb4-8566-ef3ca746fc90",
   "metadata": {},
   "outputs": [],
   "source": [
    "X_train_new = pd.concat([X_train_num_transformed_df, X_train_cat_encoded_df], axis=1)\n",
    "X_test_new = pd.concat([X_test_num_transformed_df, X_test_cat_encoded_df], axis=1)"
   ]
  },
  {
   "cell_type": "markdown",
   "id": "e342c38c-d3f2-4c54-aef2-65c4fb539f6b",
   "metadata": {},
   "source": [
    "<br><h2>Fit a MinMax scaler using X_train_new and transform X_train_new and X_test_new. Create new pandas dataframes from the resulting numpy arrays. Remember to set the correct columns names and indexes. Name the resulting dataframes as: X_train_new_scaled_df and X_test_new_scaled_df<h2>"
   ]
  },
  {
   "cell_type": "code",
   "execution_count": 72,
   "id": "7ca45ffc-0772-4cab-8fa3-eec7ca5bac81",
   "metadata": {},
   "outputs": [],
   "source": [
    "transformer = MinMaxScaler().fit(X_train_new)\n",
    "X_train_new_ar = transformer.transform(X_train_new)\n",
    "X_train_new_scaled_df = pd.DataFrame(X_train_new_ar, columns=X_train_new.columns)\n",
    "\n",
    "transformer = MinMaxScaler().fit(X_test_new)\n",
    "X_test_new_ar = transformer.transform(X_test_new)\n",
    "X_test_new_scaled_df = pd.DataFrame(X_test_new_ar, columns=X_test_new.columns)"
   ]
  },
  {
   "cell_type": "markdown",
   "id": "23e19d15-9d4b-4771-b3ea-b3efc04c83c3",
   "metadata": {},
   "source": [
    "<br><h2>Train a simple linear regression model using X_train_new_scaled_df, and get the predictions for the train and test sets<h2>"
   ]
  },
  {
   "cell_type": "code",
   "execution_count": 73,
   "id": "0db2668e-7b48-4143-94cc-6aafd7e0daad",
   "metadata": {},
   "outputs": [],
   "source": [
    "lm = LinearRegression()\n",
    "lm.fit(X_train_new_scaled_df,y_train)\n",
    "y_pred_train = lm.predict(X_train_new_scaled_df)\n",
    "y_pred_test = lm.predict(X_test_new_scaled_df)"
   ]
  },
  {
   "cell_type": "code",
   "execution_count": 74,
   "id": "a91792de-aba9-452d-a43a-95757406ec55",
   "metadata": {},
   "outputs": [
    {
     "name": "stdout",
     "output_type": "stream",
     "text": [
      "\n",
      "Error tests\n",
      "\n",
      "R2 train = 0.3956\n",
      "R2 test = 0.3688\n",
      "\n",
      "RMSE train = 182.4470\n",
      "RMSE test = 181.9366\n",
      "\n",
      "MAE train = 138.3781\n",
      "MAE test = 137.6704\n",
      "\n",
      "MSE train = 33286.9191\n",
      "MAE test = 33100.9316\n",
      "\n"
     ]
    }
   ],
   "source": [
    "print('\\nError tests\\n')\n",
    "print(f'R2 train = {r2_score(y_train, y_pred_train):.4f}')\n",
    "print(f'R2 test = {r2_score(y_test, y_pred_test):.4f}')\n",
    "print()\n",
    "print(f'RMSE train = {(np.sqrt(mean_squared_error(y_train,y_pred_train))):.4f}')\n",
    "print(f'RMSE test = {(np.sqrt(mean_squared_error(y_test,y_pred_test))):.4f}')\n",
    "print()\n",
    "print (f'MAE train = {(metrics.mean_absolute_error(y_train, y_pred_train)):.4f}')\n",
    "print (f'MAE test = {(metrics.mean_absolute_error(y_test, y_pred_test)):.4f}')\n",
    "print()\n",
    "print (f'MSE train = {(metrics.mean_squared_error(y_train, y_pred_train)):.4f}')\n",
    "print (f'MAE test = {(metrics.mean_squared_error(y_test, y_pred_test)):.4f}')\n",
    "print()"
   ]
  },
  {
   "cell_type": "markdown",
   "id": "d02decfc-201a-456d-8198-cf695fddf8ae",
   "metadata": {},
   "source": [
    "<br><h2>Create a function that given a model prediction and real values returns a pandas dataframe with the following table:<h2>"
   ]
  },
  {
   "cell_type": "markdown",
   "id": "c38a9965-d59e-441d-8e1f-9d12df91a46f",
   "metadata": {},
   "source": [
    "| Error metric | Value |\n",
    "| --- |  --- |\n",
    "| MAE | value |\n",
    "| MSE | value |\n",
    "| RMSE | value |\n",
    "| MAPE| value |\n",
    "| R2 | value |"
   ]
  },
  {
   "cell_type": "code",
   "execution_count": 75,
   "id": "fc803ab7-ee03-4b8e-a44b-3e7a3eca3338",
   "metadata": {},
   "outputs": [],
   "source": [
    "def metrics_maker(X_train, X_test, y_train):\n",
    "    lm = LinearRegression()\n",
    "    lm.fit(X_train,y_train)\n",
    "    y_pred_train = lm.predict(X_train)\n",
    "    y_pred_test = lm.predict(X_test)\n",
    "    \n",
    "    mae_train = metrics.mean_absolute_error(y_train, y_pred_train)\n",
    "    mae_test = metrics.mean_absolute_error(y_test, y_pred_test)\n",
    "    mse_train = metrics.mean_squared_error(y_train, y_pred_train)\n",
    "    mse_test = metrics.mean_squared_error(y_test, y_pred_test)\n",
    "    rmse_train = np.sqrt(mean_squared_error(y_train,y_pred_train))\n",
    "    rmse_test = np.sqrt(mean_squared_error(y_test,y_pred_test))\n",
    "    mape_train = metrics.mean_absolute_percentage_error(y_train, y_pred_train)\n",
    "    mape_test = metrics.mean_absolute_percentage_error(y_test, y_pred_test)\n",
    "    r2_train = round(r2_score(y_train, y_pred_train),4)\n",
    "    r2_test = r2_score(y_test, y_pred_test)\n",
    "    data = [['MAE', mae_train, mae_test], ['MSE', mse_train, mse_test], ['RMSE', rmse_train, rmse_test], ['MAPE', mape_train, mape_test], ['R2', r2_train, r2_test]]\n",
    "    df_total = pd.DataFrame(data=data, columns=['Error metric', 'Train Set', 'Test Set'])\n",
    "    df_total = df_total.style.hide(axis='index')\n",
    "    return df_total"
   ]
  },
  {
   "cell_type": "code",
   "execution_count": 76,
   "id": "8f29052a-3817-45e4-99fe-9c14f3a8d45d",
   "metadata": {},
   "outputs": [
    {
     "data": {
      "text/html": [
       "<style type=\"text/css\">\n",
       "</style>\n",
       "<table id=\"T_a1610\">\n",
       "  <thead>\n",
       "    <tr>\n",
       "      <th id=\"T_a1610_level0_col0\" class=\"col_heading level0 col0\" >Error metric</th>\n",
       "      <th id=\"T_a1610_level0_col1\" class=\"col_heading level0 col1\" >Train Set</th>\n",
       "      <th id=\"T_a1610_level0_col2\" class=\"col_heading level0 col2\" >Test Set</th>\n",
       "    </tr>\n",
       "  </thead>\n",
       "  <tbody>\n",
       "    <tr>\n",
       "      <td id=\"T_a1610_row0_col0\" class=\"data row0 col0\" >MAE</td>\n",
       "      <td id=\"T_a1610_row0_col1\" class=\"data row0 col1\" >138.378123</td>\n",
       "      <td id=\"T_a1610_row0_col2\" class=\"data row0 col2\" >137.670394</td>\n",
       "    </tr>\n",
       "    <tr>\n",
       "      <td id=\"T_a1610_row1_col0\" class=\"data row1 col0\" >MSE</td>\n",
       "      <td id=\"T_a1610_row1_col1\" class=\"data row1 col1\" >33286.919109</td>\n",
       "      <td id=\"T_a1610_row1_col2\" class=\"data row1 col2\" >33100.931632</td>\n",
       "    </tr>\n",
       "    <tr>\n",
       "      <td id=\"T_a1610_row2_col0\" class=\"data row2 col0\" >RMSE</td>\n",
       "      <td id=\"T_a1610_row2_col1\" class=\"data row2 col1\" >182.447031</td>\n",
       "      <td id=\"T_a1610_row2_col2\" class=\"data row2 col2\" >181.936614</td>\n",
       "    </tr>\n",
       "    <tr>\n",
       "      <td id=\"T_a1610_row3_col0\" class=\"data row3 col0\" >MAPE</td>\n",
       "      <td id=\"T_a1610_row3_col1\" class=\"data row3 col1\" >2.276999</td>\n",
       "      <td id=\"T_a1610_row3_col2\" class=\"data row3 col2\" >2.322091</td>\n",
       "    </tr>\n",
       "    <tr>\n",
       "      <td id=\"T_a1610_row4_col0\" class=\"data row4 col0\" >R2</td>\n",
       "      <td id=\"T_a1610_row4_col1\" class=\"data row4 col1\" >0.395600</td>\n",
       "      <td id=\"T_a1610_row4_col2\" class=\"data row4 col2\" >0.368848</td>\n",
       "    </tr>\n",
       "  </tbody>\n",
       "</table>\n"
      ],
      "text/plain": [
       "<pandas.io.formats.style.Styler at 0x7f32885b40d0>"
      ]
     },
     "execution_count": 76,
     "metadata": {},
     "output_type": "execute_result"
    }
   ],
   "source": [
    "metrics_maker(X_train_new_scaled_df, X_test_new_scaled_df, y_train)"
   ]
  },
  {
   "cell_type": "markdown",
   "id": "d6b2bfd5-ac1b-4abf-a2e9-16456c14d8b7",
   "metadata": {},
   "source": [
    "<br><h2>Now define a function that takes as an input: list of models, X_train and y_train to train several model (with default values) so we can train a lot of them without repeating code. The function must return the list of trained models.<h2>"
   ]
  },
  {
   "cell_type": "code",
   "execution_count": 77,
   "id": "6b650323-a0c6-4264-aa3c-bcf88194fbc1",
   "metadata": {},
   "outputs": [],
   "source": [
    "mod_list = [LinearRegression(), KNeighborsRegressor(), MLPRegressor()]\n",
    "def metrics_maker(models, X_train, y_train):\n",
    "    for m in models:\n",
    "        m.fit(X_train, y_train)\n",
    "        y_pred_train = m.predict(X_train)\n",
    "        \n",
    "        mae_train = metrics.mean_absolute_error(y_test, y_pred_test)\n",
    "        mse_train = metrics.mean_squared_error(y_train, y_pred_train)\n",
    "        rmse_train = np.sqrt(mean_squared_error(y_train,y_pred_train))\n",
    "        mape_train = metrics.mean_absolute_percentage_error(y_train, y_pred_train)\n",
    "        r2_train = r2_score(y_train, y_pred_train)\n",
    "        \n",
    "        data = [['MAE', mae_train], ['MSE', mse_train], ['RMSE', rmse_train], ['MAPE', mape_train], ['R2', r2_train]]\n",
    "        df_total = pd.DataFrame(data=data, columns=['Error metric', 'Train Set'])\n",
    "        df_total = df_total.style.hide(axis='index')\n",
    "        \n",
    "        print('\\nThis is the result for the model', m)\n",
    "        display(df_total)\n",
    "        \n",
    "    return models"
   ]
  },
  {
   "cell_type": "code",
   "execution_count": 78,
   "id": "770d5164-8490-49b2-bedf-6d6e38db5bb2",
   "metadata": {},
   "outputs": [
    {
     "name": "stdout",
     "output_type": "stream",
     "text": [
      "\n",
      "This is the result for the model LinearRegression()\n"
     ]
    },
    {
     "data": {
      "text/html": [
       "<style type=\"text/css\">\n",
       "</style>\n",
       "<table id=\"T_08dcd\">\n",
       "  <thead>\n",
       "    <tr>\n",
       "      <th id=\"T_08dcd_level0_col0\" class=\"col_heading level0 col0\" >Error metric</th>\n",
       "      <th id=\"T_08dcd_level0_col1\" class=\"col_heading level0 col1\" >Train Set</th>\n",
       "    </tr>\n",
       "  </thead>\n",
       "  <tbody>\n",
       "    <tr>\n",
       "      <td id=\"T_08dcd_row0_col0\" class=\"data row0 col0\" >MAE</td>\n",
       "      <td id=\"T_08dcd_row0_col1\" class=\"data row0 col1\" >137.670394</td>\n",
       "    </tr>\n",
       "    <tr>\n",
       "      <td id=\"T_08dcd_row1_col0\" class=\"data row1 col0\" >MSE</td>\n",
       "      <td id=\"T_08dcd_row1_col1\" class=\"data row1 col1\" >33286.919109</td>\n",
       "    </tr>\n",
       "    <tr>\n",
       "      <td id=\"T_08dcd_row2_col0\" class=\"data row2 col0\" >RMSE</td>\n",
       "      <td id=\"T_08dcd_row2_col1\" class=\"data row2 col1\" >182.447031</td>\n",
       "    </tr>\n",
       "    <tr>\n",
       "      <td id=\"T_08dcd_row3_col0\" class=\"data row3 col0\" >MAPE</td>\n",
       "      <td id=\"T_08dcd_row3_col1\" class=\"data row3 col1\" >2.276999</td>\n",
       "    </tr>\n",
       "    <tr>\n",
       "      <td id=\"T_08dcd_row4_col0\" class=\"data row4 col0\" >R2</td>\n",
       "      <td id=\"T_08dcd_row4_col1\" class=\"data row4 col1\" >0.395580</td>\n",
       "    </tr>\n",
       "  </tbody>\n",
       "</table>\n"
      ],
      "text/plain": [
       "<pandas.io.formats.style.Styler at 0x7f3285ad2790>"
      ]
     },
     "metadata": {},
     "output_type": "display_data"
    },
    {
     "name": "stdout",
     "output_type": "stream",
     "text": [
      "\n",
      "This is the result for the model KNeighborsRegressor()\n"
     ]
    },
    {
     "data": {
      "text/html": [
       "<style type=\"text/css\">\n",
       "</style>\n",
       "<table id=\"T_71d2a\">\n",
       "  <thead>\n",
       "    <tr>\n",
       "      <th id=\"T_71d2a_level0_col0\" class=\"col_heading level0 col0\" >Error metric</th>\n",
       "      <th id=\"T_71d2a_level0_col1\" class=\"col_heading level0 col1\" >Train Set</th>\n",
       "    </tr>\n",
       "  </thead>\n",
       "  <tbody>\n",
       "    <tr>\n",
       "      <td id=\"T_71d2a_row0_col0\" class=\"data row0 col0\" >MAE</td>\n",
       "      <td id=\"T_71d2a_row0_col1\" class=\"data row0 col1\" >137.670394</td>\n",
       "    </tr>\n",
       "    <tr>\n",
       "      <td id=\"T_71d2a_row1_col0\" class=\"data row1 col0\" >MSE</td>\n",
       "      <td id=\"T_71d2a_row1_col1\" class=\"data row1 col1\" >36643.253507</td>\n",
       "    </tr>\n",
       "    <tr>\n",
       "      <td id=\"T_71d2a_row2_col0\" class=\"data row2 col0\" >RMSE</td>\n",
       "      <td id=\"T_71d2a_row2_col1\" class=\"data row2 col1\" >191.424276</td>\n",
       "    </tr>\n",
       "    <tr>\n",
       "      <td id=\"T_71d2a_row3_col0\" class=\"data row3 col0\" >MAPE</td>\n",
       "      <td id=\"T_71d2a_row3_col1\" class=\"data row3 col1\" >2.074472</td>\n",
       "    </tr>\n",
       "    <tr>\n",
       "      <td id=\"T_71d2a_row4_col0\" class=\"data row4 col0\" >R2</td>\n",
       "      <td id=\"T_71d2a_row4_col1\" class=\"data row4 col1\" >0.334636</td>\n",
       "    </tr>\n",
       "  </tbody>\n",
       "</table>\n"
      ],
      "text/plain": [
       "<pandas.io.formats.style.Styler at 0x7f3285ad2790>"
      ]
     },
     "metadata": {},
     "output_type": "display_data"
    },
    {
     "name": "stdout",
     "output_type": "stream",
     "text": [
      "\n",
      "This is the result for the model MLPRegressor()\n"
     ]
    },
    {
     "name": "stderr",
     "output_type": "stream",
     "text": [
      "/home/juan/anaconda3/lib/python3.9/site-packages/sklearn/neural_network/_multilayer_perceptron.py:692: ConvergenceWarning: Stochastic Optimizer: Maximum iterations (200) reached and the optimization hasn't converged yet.\n",
      "  warnings.warn(\n"
     ]
    },
    {
     "data": {
      "text/html": [
       "<style type=\"text/css\">\n",
       "</style>\n",
       "<table id=\"T_682e8\">\n",
       "  <thead>\n",
       "    <tr>\n",
       "      <th id=\"T_682e8_level0_col0\" class=\"col_heading level0 col0\" >Error metric</th>\n",
       "      <th id=\"T_682e8_level0_col1\" class=\"col_heading level0 col1\" >Train Set</th>\n",
       "    </tr>\n",
       "  </thead>\n",
       "  <tbody>\n",
       "    <tr>\n",
       "      <td id=\"T_682e8_row0_col0\" class=\"data row0 col0\" >MAE</td>\n",
       "      <td id=\"T_682e8_row0_col1\" class=\"data row0 col1\" >137.670394</td>\n",
       "    </tr>\n",
       "    <tr>\n",
       "      <td id=\"T_682e8_row1_col0\" class=\"data row1 col0\" >MSE</td>\n",
       "      <td id=\"T_682e8_row1_col1\" class=\"data row1 col1\" >33864.283063</td>\n",
       "    </tr>\n",
       "    <tr>\n",
       "      <td id=\"T_682e8_row2_col0\" class=\"data row2 col0\" >RMSE</td>\n",
       "      <td id=\"T_682e8_row2_col1\" class=\"data row2 col1\" >184.022507</td>\n",
       "    </tr>\n",
       "    <tr>\n",
       "      <td id=\"T_682e8_row3_col0\" class=\"data row3 col0\" >MAPE</td>\n",
       "      <td id=\"T_682e8_row3_col1\" class=\"data row3 col1\" >2.254793</td>\n",
       "    </tr>\n",
       "    <tr>\n",
       "      <td id=\"T_682e8_row4_col0\" class=\"data row4 col0\" >R2</td>\n",
       "      <td id=\"T_682e8_row4_col1\" class=\"data row4 col1\" >0.385096</td>\n",
       "    </tr>\n",
       "  </tbody>\n",
       "</table>\n"
      ],
      "text/plain": [
       "<pandas.io.formats.style.Styler at 0x7f32886d6af0>"
      ]
     },
     "metadata": {},
     "output_type": "display_data"
    },
    {
     "data": {
      "text/plain": [
       "[LinearRegression(), KNeighborsRegressor(), MLPRegressor()]"
      ]
     },
     "execution_count": 78,
     "metadata": {},
     "output_type": "execute_result"
    }
   ],
   "source": [
    "metrics_maker(mod_list, X_train_new_scaled_df, y_train)"
   ]
  },
  {
   "cell_type": "code",
   "execution_count": null,
   "id": "85cec1db-e67f-4ff6-a662-bcca18f3ecb0",
   "metadata": {},
   "outputs": [],
   "source": []
  }
 ],
 "metadata": {
  "kernelspec": {
   "display_name": "Python 3 (ipykernel)",
   "language": "python",
   "name": "python3"
  },
  "language_info": {
   "codemirror_mode": {
    "name": "ipython",
    "version": 3
   },
   "file_extension": ".py",
   "mimetype": "text/x-python",
   "name": "python",
   "nbconvert_exporter": "python",
   "pygments_lexer": "ipython3",
   "version": "3.9.13"
  },
  "toc-autonumbering": false
 },
 "nbformat": 4,
 "nbformat_minor": 5
}
